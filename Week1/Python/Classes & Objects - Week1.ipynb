{
 "cells": [
  {
   "cell_type": "markdown",
   "metadata": {},
   "source": [
    "# CLASSES and OBJECTS"
   ]
  },
  {
   "cell_type": "markdown",
   "metadata": {},
   "source": [
    "##### To define a class use the class keyword, followed by the class name and a colon."
   ]
  },
  {
   "cell_type": "markdown",
   "metadata": {},
   "source": [
    "####  Inside the class, an __init__ method has to be defined with def. This is the initializer that you can later use to instantiate objects."
   ]
  },
  {
   "cell_type": "markdown",
   "metadata": {},
   "source": [
    "######  It takes one argument: self, which refers to the object itself."
   ]
  },
  {
   "cell_type": "code",
   "execution_count": null,
   "metadata": {},
   "outputs": [],
   "source": []
  },
  {
   "cell_type": "code",
   "execution_count": 1,
   "metadata": {},
   "outputs": [],
   "source": [
    " class Student:\n",
    "\n",
    "    def __init__(self, name, age):  \n",
    "        self.name = name\n",
    "        self.age = age"
   ]
  },
  {
   "cell_type": "code",
   "execution_count": null,
   "metadata": {},
   "outputs": [],
   "source": [
    "# Methods"
   ]
  },
  {
   "cell_type": "code",
   "execution_count": 6,
   "metadata": {},
   "outputs": [
    {
     "name": "stdout",
     "output_type": "stream",
     "text": [
      "Priya is 4 year(s) old.\n",
      "Norah is 8 year(s) old.\n"
     ]
    }
   ],
   "source": [
    "class Student:\n",
    "\n",
    "    def __init__(self, name, age):  \n",
    "        self.name = name\n",
    "        self.age = age\n",
    "    def studentinfo(self):\n",
    "        print(self.name + \" is \" + str(self.age) + \" year(s) old.\")\n",
    "Priya = Student(\"Priya\", 4)\n",
    "Norah = Student(\"Norah\", 8)\n",
    "Priya.studentinfo()\n",
    "Norah.studentinfo()\n",
    " "
   ]
  },
  {
   "cell_type": "code",
   "execution_count": null,
   "metadata": {},
   "outputs": [],
   "source": [
    "## Passing aruguments to methods"
   ]
  },
  {
   "cell_type": "code",
   "execution_count": 7,
   "metadata": {},
   "outputs": [
    {
     "name": "stdout",
     "output_type": "stream",
     "text": [
      "Priya is 4 year(s) old.\n",
      "Priya -->Buddy is Norah\n",
      "Norah is 4 year(s) old.\n",
      "Norah -->Buddy is Priya\n"
     ]
    }
   ],
   "source": [
    "class Student:\n",
    "\n",
    "    def __init__(self, name, age):  \n",
    "        self.name = name\n",
    "        self.age = age\n",
    "    def SetBuddy(self,buddy) :   \n",
    "        self.buddy=buddy\n",
    "        buddy.buddy=self    \n",
    "    def studentinfo(self):\n",
    "        print(self.name + \" is \" + str(self.age) + \" year(s) old.\")\n",
    "        print(self.name,\"-->Buddy is\",self.buddy.name)\n",
    "    \n",
    "        \n",
    "Priya = Student(\"Priya\", 4)\n",
    "Norah = Student(\"Norah\", 4)\n",
    "Priya.SetBuddy(Norah)  \n",
    "Priya.studentinfo()\n",
    "Norah.studentinfo()"
   ]
  },
  {
   "cell_type": "markdown",
   "metadata": {},
   "source": [
    " # Example \n",
    " Create two new vehicles called car1 and car2. Set car1 to be a Red ,  Honda City car worth 14,00,000 ands second a Blue Maruti Alto costing 350000"
   ]
  },
  {
   "cell_type": "code",
   "execution_count": 8,
   "metadata": {},
   "outputs": [
    {
     "name": "stdout",
     "output_type": "stream",
     "text": [
      "Honda City is a Red Automatic worth Rs 1400000.00.\n",
      "Marui Alto is a Blue Manual worth Rs 350000.00.\n"
     ]
    }
   ],
   "source": [
    "# define the Vehicle class\n",
    "class Vehicle:\n",
    "    name = \"\"\n",
    "    kind = \"car\"\n",
    "    color = \"\"\n",
    "    value = 100.00\n",
    "    def description(self):\n",
    "        desc_str = \"%s is a %s %s worth Rs %.2f.\" % (self.name, self.color, self.kind, self.value)\n",
    "        return desc_str\n",
    "\n",
    "# First car  \n",
    "car1 = Vehicle() ### Inhering the properties\n",
    "car1.name = \"Honda City\"\n",
    "car1.color = \"Red\"\n",
    "car1.kind = \"Automatic\"\n",
    "car1.value = 1400000.00\n",
    "\n",
    "car2 = Vehicle()\n",
    "car2.name = \"Marui Alto\"\n",
    "car2.color = \"Blue\"\n",
    "car2.kind = \"Manual\"\n",
    "car2.value = 350000\n",
    "\n",
    "# test code\n",
    "print(car1.description())\n",
    "print(car2.description())"
   ]
  },
  {
   "cell_type": "markdown",
   "metadata": {},
   "source": [
    "# The self parameter \n",
    "Self parameter is a reference to the class itself, and is used to access variables that belongs to the class.\n",
    "Use another name instead of self:"
   ]
  },
  {
   "cell_type": "code",
   "execution_count": null,
   "metadata": {},
   "outputs": [],
   "source": [
    "class Person:\n",
    "  def __init__(basicobject, name, age):\n",
    "    basicobject.name = name\n",
    "    basicobject.age = age\n",
    "\n",
    "  def myfunc(abc):\n",
    "    print(\"Hello my name is \" + abc.name)\n",
    "\n",
    "p1 = Person(\"John\", 36)\n",
    "p1.myfunc()"
   ]
  },
  {
   "cell_type": "code",
   "execution_count": null,
   "metadata": {},
   "outputs": [],
   "source": [
    "# Inheritance\n",
    "# Derived classes are declared much like their parent class;\n",
    "however, a list of base classes to inherit from is given after the class name −"
   ]
  },
  {
   "cell_type": "code",
   "execution_count": 5,
   "metadata": {},
   "outputs": [
    {
     "name": "stdout",
     "output_type": "stream",
     "text": [
      "Calling child constructor\n",
      "Calling child method\n",
      "Calling parent method\n",
      "Parent attribute : 200\n"
     ]
    }
   ],
   "source": [
    "class Parent:        # define parent class\n",
    "   parentAttr = 100\n",
    "   def __init__(self):\n",
    "      print(\"Calling parent constructor\")\n",
    "\n",
    "   def parentMethod(self):\n",
    "      print(\"Calling parent method\")\n",
    "\n",
    "   def setAttr(self, attr):\n",
    "      Parent.parentAttr = attr\n",
    "\n",
    "   def getAttr(self):\n",
    "      print(\"Parent attribute :\", Parent.parentAttr)\n",
    "\n",
    "class Child(Parent): # define child class\n",
    "   def __init__(self):\n",
    "      print(\"Calling child constructor\")\n",
    "\n",
    "   def childMethod(self):\n",
    "      print(\"Calling child method\")\n",
    "\n",
    "c = Child()          # instance of child\n",
    "c.childMethod()      # child calls its method\n",
    "c.parentMethod()     # calls parent's method\n",
    "c.setAttr(200)       # again call parent's method\n",
    "c.getAttr()          # again call parent's method"
   ]
  },
  {
   "cell_type": "code",
   "execution_count": 6,
   "metadata": {},
   "outputs": [
    {
     "name": "stdout",
     "output_type": "stream",
     "text": [
      "Prema Nair\n",
      "Rincy Ramesh\n",
      "Rincy Ramesh, 1007\n"
     ]
    }
   ],
   "source": [
    "class Person:\n",
    "\n",
    "    def __init__(self, first, last):\n",
    "        self.firstname = first\n",
    "        self.lastname = last\n",
    "\n",
    "    def PrintName(self):\n",
    "        return self.firstname + \" \" + self.lastname\n",
    "\n",
    "class Employee(Person):\n",
    "\n",
    "    def __init__(self, first, last, staffnum):\n",
    "        Person.__init__(self,first, last)\n",
    "        self.staffnumber = staffnum\n",
    "\n",
    "    def GetEmployeeDetails(self):\n",
    "        return self.PrintName() + \", \" +  self.staffnumber\n",
    "\n",
    "x = Person(\"Prema\", \"Nair\")\n",
    "y = Employee(\"Rincy\", \"Ramesh\", \"1007\")\n",
    "\n",
    "print(x.PrintName())\n",
    "print(y.PrintName())\n",
    "print(y.GetEmployeeDetails())"
   ]
  },
  {
   "cell_type": "code",
   "execution_count": null,
   "metadata": {},
   "outputs": [],
   "source": []
  },
  {
   "cell_type": "code",
   "execution_count": null,
   "metadata": {},
   "outputs": [],
   "source": []
  },
  {
   "cell_type": "code",
   "execution_count": null,
   "metadata": {},
   "outputs": [],
   "source": []
  },
  {
   "cell_type": "code",
   "execution_count": null,
   "metadata": {},
   "outputs": [],
   "source": []
  },
  {
   "cell_type": "markdown",
   "metadata": {},
   "source": [
    "# INSTANTIATING OBJECTS"
   ]
  },
  {
   "cell_type": "markdown",
   "metadata": {},
   "source": [
    "# To instantiate an object, type the class name, followed by two brackets. "
   ]
  },
  {
   "cell_type": "code",
   "execution_count": null,
   "metadata": {},
   "outputs": [],
   "source": [
    "ozzy = Dog()"
   ]
  },
  {
   "cell_type": "markdown",
   "metadata": {},
   "source": [
    "# ADDING ATRIBUTES TO A CLASS"
   ]
  },
  {
   "cell_type": "code",
   "execution_count": null,
   "metadata": {},
   "outputs": [],
   "source": [
    "class Dog:\n",
    "\n",
    "    def __init__(self, name, age):  \n",
    "        self.name = name\n",
    "        self.age = age"
   ]
  },
  {
   "cell_type": "markdown",
   "metadata": {},
   "source": [
    "# DEFINE METHODS IN A CLASS"
   ]
  },
  {
   "cell_type": "markdown",
   "metadata": {},
   "source": [
    "# method can be called using the dot notation"
   ]
  },
  {
   "cell_type": "code",
   "execution_count": 1,
   "metadata": {},
   "outputs": [
    {
     "name": "stdout",
     "output_type": "stream",
     "text": [
      "Ozzy is 2 year(s) old.\n",
      "Skippy is 12 year(s) old.\n",
      "Filou is 8 year(s) old.\n"
     ]
    }
   ],
   "source": [
    "class Dog:\n",
    "\n",
    "    def __init__(self, name, age):  \n",
    "        self.name = name\n",
    "        self.age = age\n",
    "    def doginfo(self):\n",
    "        print(self.name + \" is \" + str(self.age) + \" year(s) old.\")\n",
    "ozzy = Dog(\"Ozzy\", 2)\n",
    "skippy = Dog(\"Skippy\", 12)\n",
    "filou = Dog(\"Filou\", 8)\n",
    "ozzy.doginfo()\n",
    "skippy.doginfo()\n",
    "filou.doginfo()\n"
   ]
  },
  {
   "cell_type": "markdown",
   "metadata": {},
   "source": [
    "# Passing arguments to methods"
   ]
  },
  {
   "cell_type": "code",
   "execution_count": 2,
   "metadata": {},
   "outputs": [
    {
     "name": "stdout",
     "output_type": "stream",
     "text": [
      "Filou\n",
      "8\n"
     ]
    }
   ],
   "source": [
    "class Dog:\n",
    "\n",
    "    def __init__(self, name, age):  \n",
    "        self.name = name\n",
    "        self.age = age\n",
    "\n",
    "    def bark(self):\n",
    "        print(\"bark bark!\")\n",
    "\n",
    "    def doginfo(self):\n",
    "        print(self.name + \" is \" + str(self.age) + \" year(s) old.\")\n",
    "\n",
    "    def birthday(self):\n",
    "        self.age +=1\n",
    "\n",
    "    def setBuddy(self, buddy):\n",
    "        self.buddy = buddy\n",
    "        buddy.buddy = self\n",
    "ozzy = Dog(\"Ozzy\", 2)\n",
    "filou = Dog(\"Filou\", 8)\n",
    "ozzy.setBuddy(filou)\n",
    "print(ozzy.buddy.name)\n",
    "print(ozzy.buddy.age)"
   ]
  },
  {
   "cell_type": "markdown",
   "metadata": {},
   "source": [
    "# CONSTRUCTORS IN PYTHON"
   ]
  },
  {
   "cell_type": "code",
   "execution_count": 3,
   "metadata": {},
   "outputs": [
    {
     "name": "stdout",
     "output_type": "stream",
     "text": [
      "2+3j\n",
      "(5, 0, 10)\n"
     ]
    }
   ],
   "source": [
    "class ComplexNumber:\n",
    "    def __init__(self,r = 0,i = 0):\n",
    "        self.real = r\n",
    "        self.imag = i\n",
    "\n",
    "    def getData(self):\n",
    "        print(\"{0}+{1}j\".format(self.real,self.imag))\n",
    "c1 = ComplexNumber(2,3)\n",
    "c1.getData()\n",
    "c2 = ComplexNumber(5)\n",
    "c2.attr = 10\n",
    "print((c2.real, c2.imag, c2.attr))\n"
   ]
  },
  {
   "cell_type": "markdown",
   "metadata": {},
   "source": [
    "# Create two new vehicles called car1 and car2. Set car1 to be a red convertible worth 60,000.00 with a name of Fer, and car2 to be a blue van named Jump worth 10,000.00."
   ]
  },
  {
   "cell_type": "code",
   "execution_count": 4,
   "metadata": {},
   "outputs": [
    {
     "name": "stdout",
     "output_type": "stream",
     "text": [
      "Fer is a red convertible worth $60000.00.\n",
      "Jump is a blue van worth $10000.00.\n"
     ]
    }
   ],
   "source": [
    "# define the Vehicle class\n",
    "class Vehicle:\n",
    "    name = \"\"\n",
    "    kind = \"car\"\n",
    "    color = \"\"\n",
    "    value = 100.00\n",
    "    def description(self):\n",
    "        desc_str = \"%s is a %s %s worth $%.2f.\" % (self.name, self.color, self.kind, self.value)\n",
    "        return desc_str\n",
    "\n",
    "# your code goes here\n",
    "car1 = Vehicle()\n",
    "car1.name = \"Fer\"\n",
    "car1.color = \"red\"\n",
    "car1.kind = \"convertible\"\n",
    "car1.value = 60000.00\n",
    "\n",
    "car2 = Vehicle()\n",
    "car2.name = \"Jump\"\n",
    "car2.color = \"blue\"\n",
    "car2.kind = \"van\"\n",
    "car2.value = 10000.00\n",
    "\n",
    "# test code\n",
    "print(car1.description())\n",
    "print(car2.description())"
   ]
  },
  {
   "cell_type": "markdown",
   "metadata": {},
   "source": [
    "# THE SELF PARAMETER"
   ]
  },
  {
   "cell_type": "markdown",
   "metadata": {},
   "source": [
    "#### The self parameter is a reference to the class itself, and is used to access variables that belongs to the class."
   ]
  },
  {
   "cell_type": "markdown",
   "metadata": {},
   "source": [
    "#### Use the words mysillyobject and xyx instead of self:"
   ]
  },
  {
   "cell_type": "code",
   "execution_count": 12,
   "metadata": {},
   "outputs": [
    {
     "name": "stdout",
     "output_type": "stream",
     "text": [
      "Hello my name is John and my age is 36\n"
     ]
    }
   ],
   "source": [
    "class Person:\n",
    "  def __init__(sampleobject, name, age):\n",
    "    sampleobject.name = name\n",
    "    sampleobject.age = age\n",
    "\n",
    "  def printdetails(xyz):\n",
    "    print(\"Hello my name is \" + xyz.name + \" and my age is\",xyz.age)\n",
    "\n",
    "person = Person(\"John\", 36)\n",
    "person.printdetails()"
   ]
  },
  {
   "cell_type": "markdown",
   "metadata": {},
   "source": [
    "# CLASS INHERITANCE"
   ]
  },
  {
   "cell_type": "markdown",
   "metadata": {},
   "source": [
    "# Derived classes are declared much like their parent class; however, a list of base classes to inherit from is given after the class name −"
   ]
  },
  {
   "cell_type": "code",
   "execution_count": 13,
   "metadata": {},
   "outputs": [
    {
     "name": "stdout",
     "output_type": "stream",
     "text": [
      "Calling child constructor\n",
      "Calling child method\n",
      "Calling parent method\n",
      "Parent attribute : 200\n"
     ]
    }
   ],
   "source": [
    "class Parent:        # define parent class\n",
    "   parentAttr = 100\n",
    "   def __init__(self):\n",
    "      print(\"Calling parent constructor\")\n",
    "\n",
    "   def parentMethod(self):\n",
    "      print(\"Calling parent method\")\n",
    "\n",
    "   def setAttr(self, attr):\n",
    "      Parent.parentAttr = attr\n",
    "\n",
    "   def getAttr(self):\n",
    "      print(\"Parent attribute :\", Parent.parentAttr)\n",
    "\n",
    "class Child(Parent): # define child class\n",
    "   def __init__(self):\n",
    "      print(\"Calling child constructor\")\n",
    "\n",
    "   def childMethod(self):\n",
    "      print(\"Calling child method\")\n",
    "\n",
    "c = Child()          # instance of child\n",
    "c.childMethod()      # child calls its method\n",
    "c.parentMethod()     # calls parent's method\n",
    "c.setAttr(200)       # again call parent's method\n",
    "c.getAttr()          # again call parent's method"
   ]
  },
  {
   "cell_type": "code",
   "execution_count": 14,
   "metadata": {},
   "outputs": [
    {
     "name": "stdout",
     "output_type": "stream",
     "text": [
      "Marge Simpson\n",
      "Homer Simpson, 1007\n"
     ]
    }
   ],
   "source": [
    "class Person:\n",
    "\n",
    "    def __init__(self, first, last):\n",
    "        self.firstname = first\n",
    "        self.lastname = last\n",
    "\n",
    "    def Name(self):\n",
    "        return self.firstname + \" \" + self.lastname\n",
    "\n",
    "class Employee(Person):\n",
    "\n",
    "    def __init__(self, first, last, staffnum):\n",
    "        Person.__init__(self,first, last)\n",
    "        self.staffnumber = staffnum\n",
    "\n",
    "    def GetEmployee(self):\n",
    "        return self.Name() + \", \" +  self.staffnumber\n",
    "\n",
    "x = Person(\"Marge\", \"Simpson\")\n",
    "y = Employee(\"Homer\", \"Simpson\", \"1007\")\n",
    "\n",
    "print(x.Name())\n",
    "print(y.GetEmployee())"
   ]
  },
  {
   "cell_type": "code",
   "execution_count": 20,
   "metadata": {},
   "outputs": [
    {
     "name": "stdout",
     "output_type": "stream",
     "text": [
      "23\n",
      "22\n",
      "102\n"
     ]
    }
   ],
   "source": [
    "class Person:  #Line:1, definition of the parent class starts here  \n",
    "    name = \"\"  #initializing the variables  \n",
    "    age = 0  \n",
    "    def __init__(self, personName, personAge):  #defining constructor  \n",
    "        self.name = personName  \n",
    "        self.age = personAge  \n",
    "    def showName(self):  #defining class methods  \n",
    "        print(self.name)  \n",
    "  \n",
    "    def showAge(self):  \n",
    "        print(self.age)  #Line: 19, end of parentclass definition  \n",
    "    \n",
    "#definition of childclass starts here\n",
    "class Student(Person): ### Person is the  parent class and Student is the subclass\n",
    "    studentId = \"\"  \n",
    "  \n",
    "    def __init__(self, studentName, studentAge, studentId):  \n",
    "        Person.__init__(self, studentName, studentAge)  #  Calling t parent class constructor and sending values of attributes.\n",
    "        self.studentId = studentId  \n",
    "  \n",
    "    def getId(self):  \n",
    "        return self.studentId  #returns the value of student id\n",
    "  \n",
    "person1 = Person(\"Richard\", 23)  ## Create an object of the superclass  \n",
    "\n",
    "person1.showAge()  #call member methods of the objects  \n",
    "# Create an object of the subclass  \n",
    "student1 = Student(\"Max\", 22, \"102\")   \n",
    "student1.showAge()## calling parent methods\n",
    "print(student1.getId())  \n",
    "#student1.showName()   \n"
   ]
  },
  {
   "cell_type": "markdown",
   "metadata": {},
   "source": [
    "# Python provides a function issubclass() that directly tells us if a class is subclass of another class.\n"
   ]
  },
  {
   "cell_type": "code",
   "execution_count": 21,
   "metadata": {},
   "outputs": [
    {
     "name": "stdout",
     "output_type": "stream",
     "text": [
      "True\n",
      "False\n",
      "False\n",
      "True\n"
     ]
    }
   ],
   "source": [
    "class Base(object): \n",
    "    pass   # Empty Class \n",
    "  \n",
    "class Derived(Base): \n",
    "    pass   # Empty Class \n",
    "  \n",
    "# Driver Code \n",
    "print(issubclass(Derived, Base)) \n",
    "print(issubclass(Base, Derived)) \n",
    "  \n",
    "d = Derived() \n",
    "b = Base() \n",
    "  \n",
    "# b is not an instance of Derived \n",
    "print(isinstance(b, Derived)) \n",
    "  \n",
    "# But d is an instance of Base \n",
    "print(isinstance(d, Base)) "
   ]
  },
  {
   "cell_type": "markdown",
   "metadata": {},
   "source": [
    "# Python support Multiple Inheritance"
   ]
  },
  {
   "cell_type": "markdown",
   "metadata": {},
   "source": [
    "# We specify all parent classes as comma separated list in bracket.\n"
   ]
  },
  {
   "cell_type": "code",
   "execution_count": 22,
   "metadata": {},
   "outputs": [
    {
     "name": "stdout",
     "output_type": "stream",
     "text": [
      "Base1\n",
      "Base2\n",
      "Derived\n",
      "Geek1 Geek2\n"
     ]
    }
   ],
   "source": [
    "class Base1(object): \n",
    "    def __init__(self): \n",
    "        self.str1 = \"Geek1\"\n",
    "        print(\"Base1\")\n",
    "  \n",
    "class Base2(object): \n",
    "    def __init__(self): \n",
    "        self.str2 = \"Geek2\"        \n",
    "        print(\"Base2\")\n",
    "  \n",
    "class Derived(Base1, Base2): \n",
    "    def __init__(self): \n",
    "          \n",
    "        # Calling constructors of Base1 \n",
    "        # and Base2 classes \n",
    "        Base1.__init__(self) \n",
    "        Base2.__init__(self) \n",
    "        print(\"Derived\")\n",
    "          \n",
    "    def printStrs(self): \n",
    "        print(self.str1, self.str2) \n",
    "         \n",
    "  \n",
    "ob = Derived() \n",
    "ob.printStrs() "
   ]
  },
  {
   "cell_type": "markdown",
   "metadata": {},
   "source": [
    "# How to access parent members in a subclass?\n"
   ]
  },
  {
   "cell_type": "markdown",
   "metadata": {},
   "source": [
    "# 1) Using Parent class name"
   ]
  },
  {
   "cell_type": "code",
   "execution_count": 24,
   "metadata": {},
   "outputs": [
    {
     "name": "stdout",
     "output_type": "stream",
     "text": [
      "Self 10 20\n",
      "Base 10 20\n"
     ]
    }
   ],
   "source": [
    "class Base(object): \n",
    "  \n",
    "    # Constructor \n",
    "    def __init__(self, x): \n",
    "        self.x = x     \n",
    "  \n",
    "class Derived(Base): \n",
    "  \n",
    "    # Constructor \n",
    "    def __init__(self, x, y): \n",
    "        Base.x = x  \n",
    "        self.y = y \n",
    "  \n",
    "    def printXY(self): \n",
    "       \n",
    "       print(\"Self\",self.x, self.y) ###  will also work \n",
    "       print(\"Base\",Base.x, self.y) \n",
    "  \n",
    "  \n",
    "# Driver Code \n",
    "d = Derived(10, 20) \n",
    "d.printXY() "
   ]
  },
  {
   "cell_type": "markdown",
   "metadata": {},
   "source": [
    "# Using super()"
   ]
  },
  {
   "cell_type": "markdown",
   "metadata": {},
   "source": [
    "# We can also access parent class members using super.\n"
   ]
  },
  {
   "cell_type": "code",
   "execution_count": 4,
   "metadata": {},
   "outputs": [
    {
     "name": "stdout",
     "output_type": "stream",
     "text": [
      "10 20\n"
     ]
    }
   ],
   "source": [
    "class Base(object): \n",
    "  \n",
    "    # Constructor \n",
    "    def __init__(self, x): \n",
    "        self.x = x     \n",
    "  \n",
    "class Derived(Base): \n",
    "  \n",
    "    # Constructor \n",
    "    def __init__(self, x, y): \n",
    "          \n",
    "        ''' In Python 3.x, \"super().__init__(name)\" \n",
    "            also works''' \n",
    "        super(Derived, self).__init__(x) \n",
    "        self.y = y \n",
    "  \n",
    "    def printXY(self): \n",
    "  \n",
    "       # Note that Base.x won't work here \n",
    "       # because super() is used in constructor \n",
    "       print(self.x, self.y) \n",
    "  \n",
    "  \n",
    "# Driver Code \n",
    "d = Derived(10, 20) \n",
    "d.printXY() "
   ]
  },
  {
   "cell_type": "markdown",
   "metadata": {},
   "source": [
    "# Polymorphism with a function:"
   ]
  },
  {
   "cell_type": "markdown",
   "metadata": {},
   "source": [
    "# We create two classes: Bear and Dog, both can make a distinct sound. We then make two instances and call their action using the same method."
   ]
  },
  {
   "cell_type": "code",
   "execution_count": 28,
   "metadata": {},
   "outputs": [
    {
     "name": "stdout",
     "output_type": "stream",
     "text": [
      "Calling the method\n",
      "Manual\n",
      "Calling the method\n",
      "Automatic\n"
     ]
    }
   ],
   "source": [
    "class  car1(object):\n",
    "    def transmission(self):\n",
    "        print(\"Manual\")\n",
    " \n",
    "class car2(object):\n",
    "    def transmission(self):\n",
    "        print(\"Automatic\")\n",
    " \n",
    "def printTransmissionType(transType):\n",
    "   print(\"Calling the method\") \n",
    "   transType.transmission()\n",
    " \n",
    " \n",
    " \n",
    "car1Obj = car1()\n",
    "car2Obj = car2()\n",
    " \n",
    "printTransmissionType(car1Obj)\n",
    "printTransmissionType(car2Obj)\n",
    "        "
   ]
  },
  {
   "cell_type": "markdown",
   "metadata": {},
   "source": [
    "# Polymorphism with abstract class"
   ]
  },
  {
   "cell_type": "code",
   "execution_count": 30,
   "metadata": {},
   "outputs": [
    {
     "name": "stdout",
     "output_type": "stream",
     "text": [
      "Document1: Show pdf contents!\n",
      "Document2: Show pdf contents!\n",
      "Document3: Show word contents!\n"
     ]
    }
   ],
   "source": [
    "class Document:\n",
    "    def __init__(self, name):    \n",
    "        self.name = name\n",
    " \n",
    "    def show(self):             \n",
    "        raise NotImplementedError(\"Subclass must implement abstract method\")\n",
    " \n",
    "class Pdf(Document):\n",
    "    def show(self):\n",
    "        return 'Show pdf contents!'\n",
    " \n",
    "class Word(Document):\n",
    "    def show(self):\n",
    "        return 'Show word contents!'\n",
    " \n",
    "documents = [Pdf('Document1'),Pdf('Document2'),Word('Document3')]  ## list of objects\n",
    " \n",
    "for document in documents:\n",
    "    print(document.name + ': ' + document.show())"
   ]
  },
  {
   "cell_type": "markdown",
   "metadata": {},
   "source": [
    "# Write a Python class to convert an integer to a roman numeral."
   ]
  },
  {
   "cell_type": "code",
   "execution_count": 7,
   "metadata": {},
   "outputs": [
    {
     "name": "stdout",
     "output_type": "stream",
     "text": [
      "I\n",
      "MMMM\n"
     ]
    }
   ],
   "source": [
    "class py_solution:\n",
    "    def int_to_Roman(self, num):\n",
    "        val = [\n",
    "            1000, 900, 500, 400,\n",
    "            100, 90, 50, 40,\n",
    "            10, 9, 5, 4,\n",
    "            1\n",
    "            ]\n",
    "        syb = [\n",
    "            \"M\", \"CM\", \"D\", \"CD\",\n",
    "            \"C\", \"XC\", \"L\", \"XL\",\n",
    "            \"X\", \"IX\", \"V\", \"IV\",\n",
    "            \"I\"\n",
    "            ]\n",
    "        roman_num = ''\n",
    "        i = 0\n",
    "        while  num > 0:\n",
    "            for _ in range(num // val[i]):\n",
    "                roman_num += syb[i]\n",
    "                num -= val[i]\n",
    "            i += 1\n",
    "        return roman_num\n",
    "\n",
    "\n",
    "print(py_solution().int_to_Roman(1))\n",
    "print(py_solution().int_to_Roman(4000))"
   ]
  },
  {
   "cell_type": "markdown",
   "metadata": {},
   "source": [
    "# Write a Python program to convert a roman numeral to an integer.\n",
    "#Also demonstrating the use of a dictionary"
   ]
  },
  {
   "cell_type": "code",
   "execution_count": 34,
   "metadata": {},
   "outputs": [
    {
     "name": "stdout",
     "output_type": "stream",
     "text": [
      "3986\n",
      "4000\n",
      "100\n",
      "9\n"
     ]
    }
   ],
   "source": [
    "class py_solution:\n",
    "    def roman_to_int(self, s):\n",
    "        rom_val = {'I': 1, 'V': 5, 'X': 10, 'L': 50, 'C': 100, 'D': 500, 'M': 1000}\n",
    "        int_val = 0\n",
    "        for i in range(len(s)):\n",
    "            if i > 0 and rom_val[s[i]] > rom_val[s[i - 1]]:\n",
    "                int_val += rom_val[s[i]] - 2 * rom_val[s[i - 1]]\n",
    "            else:\n",
    "                int_val += rom_val[s[i]]\n",
    "        return int_val\n",
    "\n",
    "print(py_solution().roman_to_int('MMMCMLXXXVI'))\n",
    "print(py_solution().roman_to_int('MMMM'))\n",
    "print(py_solution().roman_to_int('C'))\n",
    "print(py_solution().roman_to_int('IX'))"
   ]
  },
  {
   "cell_type": "markdown",
   "metadata": {},
   "source": [
    "# Write a Python program to find validity of a string of parentheses, '(', ')', '{', '}', '[' and ']. These brackets must be closed in the correct order,"
   ]
  },
  {
   "cell_type": "code",
   "execution_count": 9,
   "metadata": {},
   "outputs": [
    {
     "name": "stdout",
     "output_type": "stream",
     "text": [
      "True\n",
      "False\n",
      "True\n"
     ]
    }
   ],
   "source": [
    "class py_solution:\n",
    "   def is_valid_parenthese(self, str1):\n",
    "        stack, pchar = [], {\"(\": \")\", \"{\": \"}\", \"[\": \"]\"}\n",
    "        for parenthese in str1:\n",
    "            if parenthese in pchar:\n",
    "                stack.append(parenthese)\n",
    "            elif len(stack) == 0 or pchar[stack.pop()] != parenthese:\n",
    "                return False\n",
    "        return len(stack) == 0\n",
    "\n",
    "print(py_solution().is_valid_parenthese(\"(){}[]\"))\n",
    "print(py_solution().is_valid_parenthese(\"()[{)}\"))\n",
    "print(py_solution().is_valid_parenthese(\"()\"))"
   ]
  },
  {
   "cell_type": "markdown",
   "metadata": {},
   "source": [
    "# Write a Python program to get all possible unique subsets from a set of distinct integers."
   ]
  },
  {
   "cell_type": "code",
   "execution_count": 10,
   "metadata": {},
   "outputs": [
    {
     "name": "stdout",
     "output_type": "stream",
     "text": [
      "[[], [6], [5], [5, 6], [4], [4, 6], [4, 5], [4, 5, 6]]\n"
     ]
    }
   ],
   "source": [
    "class py_solution:\n",
    "    def sub_sets(self, sset):\n",
    "        return self.subsetsRecur([], sorted(sset))\n",
    "    \n",
    "    def subsetsRecur(self, current, sset):\n",
    "        if sset:\n",
    "            return self.subsetsRecur(current, sset[1:]) + self.subsetsRecur(current + [sset[0]], sset[1:])\n",
    "        return [current]\n",
    "\n",
    "print(py_solution().sub_sets([4,5,6]))"
   ]
  },
  {
   "cell_type": "markdown",
   "metadata": {},
   "source": [
    "# Write a Python class to find a pair of elements (indices of the two numbers) from a given array whose sum equals a specific target number."
   ]
  },
  {
   "cell_type": "code",
   "execution_count": 11,
   "metadata": {},
   "outputs": [
    {
     "name": "stdout",
     "output_type": "stream",
     "text": [
      "index1=3, index2=4\n"
     ]
    }
   ],
   "source": [
    "class py_solution:\n",
    "   def twoSum(self, nums, target):\n",
    "        lookup = {}\n",
    "        for i, num in enumerate(nums):\n",
    "            if target - num in lookup:\n",
    "                return (lookup[target - num] + 1, i + 1)\n",
    "            lookup[num] = i\n",
    "print(\"index1=%d, index2=%d\" % py_solution().twoSum((10,20,10,40,50,60,70),50))"
   ]
  },
  {
   "cell_type": "markdown",
   "metadata": {},
   "source": [
    "# Write a Python class to find the three elements that sum to zero from a set of n real numbers."
   ]
  },
  {
   "cell_type": "code",
   "execution_count": 12,
   "metadata": {},
   "outputs": [
    {
     "name": "stdout",
     "output_type": "stream",
     "text": [
      "[[-10, 2, 8], [-7, -3, 10]]\n"
     ]
    }
   ],
   "source": [
    "class py_solution:\n",
    " def threeSum(self, nums):\n",
    "        nums, result, i = sorted(nums), [], 0\n",
    "        while i < len(nums) - 2:\n",
    "            j, k = i + 1, len(nums) - 1\n",
    "            while j < k:\n",
    "                if nums[i] + nums[j] + nums[k] < 0:\n",
    "                    j += 1\n",
    "                elif nums[i] + nums[j] + nums[k] > 0:\n",
    "                    k -= 1\n",
    "                else:\n",
    "                    result.append([nums[i], nums[j], nums[k]])\n",
    "                    j, k = j + 1, k - 1\n",
    "                    while j < k and nums[j] == nums[j - 1]:\n",
    "                        j += 1\n",
    "                    while j < k and nums[k] == nums[k + 1]:\n",
    "                        k -= 1\n",
    "            i += 1\n",
    "            while i < len(nums) - 2 and nums[i] == nums[i - 1]:\n",
    "                i += 1\n",
    "        return result\n",
    "\n",
    "print(py_solution().threeSum([-25, -10, -7, -3, 2, 4, 8, 10]))\n"
   ]
  },
  {
   "cell_type": "markdown",
   "metadata": {},
   "source": [
    "# Write a Python class to implement pow(x, n)."
   ]
  },
  {
   "cell_type": "code",
   "execution_count": 10,
   "metadata": {},
   "outputs": [
    {
     "name": "stdout",
     "output_type": "stream",
     "text": [
      "Power of(2,-3) is : 0.125\n",
      "Power of(3,5) is : 243\n",
      "Power of(100,0) is : 1\n"
     ]
    }
   ],
   "source": [
    "class py_solution:\n",
    "   def pow(self, x, n):\n",
    "        if x==0 or x==1 or n==1:\n",
    "            return x \n",
    "\n",
    "        if x==-1:\n",
    "            if n%2 ==0:\n",
    "                return 1\n",
    "            else:\n",
    "                return -1\n",
    "        if n==0:\n",
    "            return 1\n",
    "        if n<0:\n",
    "            return 1/self.pow(x,-n)\n",
    "        val = self.pow(x,n//2)\n",
    "        if n%2 ==0:\n",
    "            return val*val\n",
    "        return val*val*x\n",
    "\n",
    "print(\"Power of(2,-3) is :\",py_solution().pow(2, -3));\n",
    "print(\"Power of(3,5) is :\",py_solution().pow(3, 5));\n",
    "print(\"Power of(100,0) is :\",py_solution().pow(100, 0));"
   ]
  },
  {
   "cell_type": "markdown",
   "metadata": {},
   "source": [
    "# Write a Python class to reverse a string word by word."
   ]
  },
  {
   "cell_type": "code",
   "execution_count": 6,
   "metadata": {},
   "outputs": [
    {
     "name": "stdout",
     "output_type": "stream",
     "text": [
      "Reversed String is : .py hello\n"
     ]
    }
   ],
   "source": [
    "class py_solution:\n",
    "    def reverse_words(self, s):\n",
    "        return ' '.join(reversed(s.split()))\n",
    "\n",
    "\n",
    "print(\"Reversed String is :\",py_solution().reverse_words('hello .py'))"
   ]
  },
  {
   "cell_type": "markdown",
   "metadata": {},
   "source": [
    "# Write a Python class which has two methods get_String and print_String. get_String accept a string from the user and print_String print the string in upper case."
   ]
  },
  {
   "cell_type": "code",
   "execution_count": 2,
   "metadata": {},
   "outputs": [
    {
     "name": "stdout",
     "output_type": "stream",
     "text": [
      "Enter a string :good\n",
      "GOOD\n"
     ]
    }
   ],
   "source": [
    "class IOString():\n",
    "    def __init__(self):\n",
    "        self.str1 = \"\"\n",
    "\n",
    "    def get_String(self):\n",
    "        self.str1 = input('Enter a string :')\n",
    "\n",
    "    def print_String(self):\n",
    "        print(self.str1.upper())\n",
    "\n",
    "str1 = IOString()\n",
    "str1.get_String()\n",
    "str1.print_String()\n"
   ]
  },
  {
   "cell_type": "markdown",
   "metadata": {},
   "source": [
    "# Write a Python program to get the class name of an instance in Python.\n"
   ]
  },
  {
   "cell_type": "code",
   "execution_count": 1,
   "metadata": {},
   "outputs": [
    {
     "name": "stdout",
     "output_type": "stream",
     "text": [
      "cycle\n"
     ]
    }
   ],
   "source": [
    "import itertools\n",
    "x = itertools.cycle('ABCD')\n",
    "print(type(x).__name__)"
   ]
  },
  {
   "cell_type": "markdown",
   "metadata": {},
   "source": [
    "# Solve quadratic equation using class"
   ]
  },
  {
   "cell_type": "code",
   "execution_count": 3,
   "metadata": {},
   "outputs": [
    {
     "name": "stdout",
     "output_type": "stream",
     "text": [
      "None\n",
      "None\n",
      "-71\n"
     ]
    }
   ],
   "source": [
    "import math\n",
    "class QuadraticEquation:\n",
    "    def __init__(self, a, b, c):   \n",
    "        self.a = a\n",
    "        self.b = b\n",
    "        self.c = c\n",
    "    def discriminant(self):\n",
    "        return ((self.b)**2) - (4 * self.a * self.c)\n",
    "    def root1(self):\n",
    "        if self.discriminant() < 0:\n",
    "            return None\n",
    "        else:\n",
    "            \n",
    "        \n",
    "            return (-self.b + math.sqrt(self.discriminant())) / (2 * self.a)\n",
    "    def root2(self):\n",
    "        if self.discriminant() < 0:\n",
    "            return None\n",
    "        else:\n",
    "            return (-self.b - math.sqrt(self.discriminant())) / (2 * self.a)\n",
    "\n",
    "a = QuadraticEquation(4,5,6)\n",
    "print(a.root1())\n",
    "print(a.root2())\n",
    "print(a.discriminant())\n",
    "             "
   ]
  },
  {
   "cell_type": "markdown",
   "metadata": {},
   "source": [
    "# write a program to stores information about a person:\n"
   ]
  },
  {
   "cell_type": "code",
   "execution_count": 4,
   "metadata": {},
   "outputs": [
    {
     "name": "stdout",
     "output_type": "stream",
     "text": [
      "Jane Doe, born 1992-03-12\n",
      "Address: No. 12 Short Street, Greenville\n",
      "Telephone: 555 456 0987\n",
      "Email:jane.doe@example.com\n"
     ]
    }
   ],
   "source": [
    "import datetime\n",
    "\n",
    "class Person:\n",
    "    def __init__(self, name, surname, birthdate, address, telephone, email):\n",
    "        self.name = name\n",
    "        self.surname = surname\n",
    "        self.birthdate = birthdate\n",
    "\n",
    "        self.address = address\n",
    "        self.telephone = telephone\n",
    "        self.email = email\n",
    "\n",
    "    def __str__(self):\n",
    "        return \"%s %s, born %s\\nAddress: %s\\nTelephone: %s\\nEmail:%s\" % (self.name, self.surname, self.birthdate, self.address, self.telephone, self.email)\n",
    "\n",
    "jane = Person(\n",
    "    \"Jane\",\n",
    "    \"Doe\",\n",
    "    datetime.date(1992, 3, 12), # year, month, day\n",
    "    \"No. 12 Short Street, Greenville\",\n",
    "    \"555 456 0987\",\n",
    "    \"jane.doe@example.com\"\n",
    ")\n",
    "\n",
    "print(jane)"
   ]
  }
 ],
 "metadata": {
  "kernelspec": {
   "display_name": "Python 3",
   "language": "python",
   "name": "python3"
  },
  "language_info": {
   "codemirror_mode": {
    "name": "ipython",
    "version": 3
   },
   "file_extension": ".py",
   "mimetype": "text/x-python",
   "name": "python",
   "nbconvert_exporter": "python",
   "pygments_lexer": "ipython3",
   "version": "3.6.4"
  }
 },
 "nbformat": 4,
 "nbformat_minor": 2
}

{
 "cells": [
  {
   "cell_type": "markdown",
   "metadata": {},
   "source": [
    "# A few points to note  \n",
    "#### 1) Download Anaconda if you have not done already\n",
    "#### 2) I am using Jupyter notebook from today to show you the Python code and examples. \n",
    "#### 3) Another tool that will be used for classes is Github. You can access the Jupiter notebooks \n",
    "####    from https://github.com/premalatha-nair/ML-with-Python\n",
    "#### 4) All exercises for the weeks will be also uploaded in Github   \n",
    "\n",
    "### Important : I am using Python 3. There are significant differences between Python 2.x and Python 3.x"
   ]
  },
  {
   "cell_type": "markdown",
   "metadata": {},
   "source": [
    "A Quick Introduction to Jupyter Notebook\n",
    "https://www.dataquest.io/blog/jupyter-notebook-tutorial/"
   ]
  },
  {
   "cell_type": "markdown",
   "metadata": {},
   "source": [
    "# Plan for this week"
   ]
  },
  {
   "cell_type": "markdown",
   "metadata": {},
   "source": [
    "##### 1) Cover Data Types, Loops, Exception handling, Input handling, Functions, Modules, Classes and Objects\n",
    "##### 2) Cover some of the advances Python packages Pandas, NumPy, Matplotlib, Scikitlearn\n",
    "#### 3) Kaggle.com\n"
   ]
  },
  {
   "cell_type": "markdown",
   "metadata": {},
   "source": [
    "# Python Variables and Datatypes"
   ]
  },
  {
   "cell_type": "markdown",
   "metadata": {},
   "source": [
    "## Python Numbers\n",
    "\n",
    "Number data types store numeric values. They are immutable data types. This means, changing the value of a number data type results in a newly allocated object.\n",
    "\n",
    "Number objects are created when you assign a value to them. For example\n",
    "\n"
   ]
  },
  {
   "cell_type": "code",
   "execution_count": 18,
   "metadata": {},
   "outputs": [
    {
     "name": "stdout",
     "output_type": "stream",
     "text": [
      "10 2.3 yyy\n"
     ]
    }
   ],
   "source": [
    "var1 = 10\n",
    "var2= 2.3\n",
    "var3= \"yyy\"\n",
    "print(var1, var2, var3)"
   ]
  },
  {
   "cell_type": "code",
   "execution_count": 19,
   "metadata": {},
   "outputs": [
    {
     "name": "stdout",
     "output_type": "stream",
     "text": [
      "3\n"
     ]
    }
   ],
   "source": [
    "var2 = 3\n",
    "print(var2)"
   ]
  },
  {
   "cell_type": "markdown",
   "metadata": {},
   "source": [
    "### Deleting a variable"
   ]
  },
  {
   "cell_type": "code",
   "execution_count": 20,
   "metadata": {},
   "outputs": [
    {
     "ename": "NameError",
     "evalue": "name 'var2' is not defined",
     "output_type": "error",
     "traceback": [
      "\u001b[0;31m---------------------------------------------------------------------------\u001b[0m",
      "\u001b[0;31mNameError\u001b[0m                                 Traceback (most recent call last)",
      "\u001b[0;32m<ipython-input-20-4f76c6fe84e5>\u001b[0m in \u001b[0;36m<module>\u001b[0;34m()\u001b[0m\n\u001b[1;32m      1\u001b[0m \u001b[0;32mdel\u001b[0m \u001b[0mvar2\u001b[0m\u001b[0;34m\u001b[0m\u001b[0m\n\u001b[0;32m----> 2\u001b[0;31m \u001b[0mprint\u001b[0m\u001b[0;34m(\u001b[0m\u001b[0mvar1\u001b[0m\u001b[0;34m,\u001b[0m\u001b[0mvar2\u001b[0m\u001b[0;34m)\u001b[0m\u001b[0;34m\u001b[0m\u001b[0m\n\u001b[0m",
      "\u001b[0;31mNameError\u001b[0m: name 'var2' is not defined"
     ]
    }
   ],
   "source": [
    "del var2\n",
    "print(var1,var2)"
   ]
  },
  {
   "cell_type": "markdown",
   "metadata": {},
   "source": [
    "Python supports different numerical types −\n",
    "\n",
    "int (signed integers) − They are often called just integers or ints. They are positive or negative whole numbers with no decimal point. Integers in Python 3 are of unlimited size. Python 2 has two integer types - int and long. There is no 'long integer' in Python 3 anymore.\n",
    "\n",
    "float (floating point real values) − Also called floats, they represent real numbers and are written with a decimal point dividing the integer and the fractional parts. Floats may also be in scientific notation, with E or e indicating the power of 10 (2.5e2 = 2.5 x 102 = 250).\n",
    "\n",
    "complex (complex numbers) − are of the form a + bJ, where a and b are floats and J (or j) represents the square root of -1 (which is an imaginary number). The real part of the number is a, and the imaginary part is b. Complex numbers are not used much in Python programming."
   ]
  },
  {
   "cell_type": "code",
   "execution_count": 168,
   "metadata": {},
   "outputs": [
    {
     "name": "stdout",
     "output_type": "stream",
     "text": [
      "2575 31\n"
     ]
    }
   ],
   "source": [
    "number1 = 0xA0F #Hexa-decimal\n",
    " \n",
    "number2 = 0o37 #Octal\n",
    "print(number1,number2)"
   ]
  },
  {
   "cell_type": "markdown",
   "metadata": {},
   "source": [
    "# Complex Numbers"
   ]
  },
  {
   "cell_type": "code",
   "execution_count": 172,
   "metadata": {},
   "outputs": [
    {
     "name": "stdout",
     "output_type": "stream",
     "text": [
      "(-9+19j)\n",
      "(5+8j)\n"
     ]
    }
   ],
   "source": [
    "var3 = 2 + 3j\n",
    "var4 = 3+ 5j\n",
    "var5 = var3*var4\n",
    "print(var5)\n",
    "print(var3+var4)"
   ]
  },
  {
   "cell_type": "code",
   "execution_count": 21,
   "metadata": {},
   "outputs": [
    {
     "name": "stdout",
     "output_type": "stream",
     "text": [
      "Complex Numbers\n"
     ]
    }
   ],
   "source": [
    "print(\"Complex Numbers\")"
   ]
  },
  {
   "cell_type": "markdown",
   "metadata": {},
   "source": [
    "## Getting Input values from user (keyboard inputs)"
   ]
  },
  {
   "cell_type": "code",
   "execution_count": 22,
   "metadata": {
    "scrolled": true
   },
   "outputs": [
    {
     "name": "stdout",
     "output_type": "stream",
     "text": [
      "Please enter your name : prema\n",
      "You entered  prema\n"
     ]
    }
   ],
   "source": [
    "name = input(\"Please enter your name : \")\n",
    "print(\"You entered \",name)"
   ]
  },
  {
   "cell_type": "code",
   "execution_count": 23,
   "metadata": {},
   "outputs": [
    {
     "name": "stdout",
     "output_type": "stream",
     "text": [
      "please enter age30\n",
      "Hello prema your age is  30\n"
     ]
    }
   ],
   "source": [
    "age = input(\"please enter age\")\n",
    "print(\"Hello\", name,\"your age is \", age)"
   ]
  },
  {
   "cell_type": "markdown",
   "metadata": {},
   "source": [
    "# Execrcise\n",
    "Solve a quadratic Equation\n"
   ]
  },
  {
   "cell_type": "code",
   "execution_count": 25,
   "metadata": {},
   "outputs": [
    {
     "name": "stdout",
     "output_type": "stream",
     "text": [
      "Solve ax**2+b*x + c = 0\n",
      "please enter a :1\n",
      "please enter b :4\n",
      "please enter c :1\n",
      "delta is  12.0\n",
      "-3.732050807568877\n",
      "-0.2679491924311228\n"
     ]
    }
   ],
   "source": [
    "import math\n",
    "print(\"Solve ax**2+b*x + c = 0\")\n",
    "a = float(input(\"please enter a :\"))\n",
    "b = float(input(\"please enter b :\"))\n",
    "c = float(input(\"please enter c :\"))\n",
    "delta = (b**2) - (4*a*c)\n",
    "print(\"delta is \",delta)\n",
    "soln1 = (-b - math.sqrt(delta))/(2*a)\n",
    "soln2 = (-b +  math.sqrt(delta))/(2*a)\n",
    "print(soln1)\n",
    "print(soln2)\n"
   ]
  },
  {
   "cell_type": "markdown",
   "metadata": {},
   "source": [
    "# Control Flow and Loops"
   ]
  },
  {
   "cell_type": "markdown",
   "metadata": {},
   "source": [
    "# If"
   ]
  },
  {
   "cell_type": "markdown",
   "metadata": {},
   "source": [
    "#### Exercise : Check if a number is negative,positive or zero"
   ]
  },
  {
   "cell_type": "code",
   "execution_count": 33,
   "metadata": {},
   "outputs": [
    {
     "name": "stdout",
     "output_type": "stream",
     "text": [
      "Please input the number : 2\n",
      "Extra statement\n"
     ]
    }
   ],
   "source": [
    "num = int(input(\"Please input the number : \")) ## typecast to integer\n",
    "if num <0 :\n",
    "    print(\"Number is negative\")\n",
    "print(\"Extra statement\") ## no indentation "
   ]
  },
  {
   "cell_type": "code",
   "execution_count": 35,
   "metadata": {},
   "outputs": [
    {
     "name": "stdout",
     "output_type": "stream",
     "text": [
      "Please input the number : -3\n",
      "Number is negative\n"
     ]
    }
   ],
   "source": [
    "\n",
    "num = int(input(\"Please input the number : \"))\n",
    "if num <0:\n",
    "    print(\"Number is negative\")"
   ]
  },
  {
   "cell_type": "code",
   "execution_count": 4,
   "metadata": {},
   "outputs": [
    {
     "name": "stdout",
     "output_type": "stream",
     "text": [
      "Please input the number : 3\n"
     ]
    }
   ],
   "source": [
    "num = int(input(\"Please input the number : \")) ## typecast to integer\n",
    "if num <0:\n",
    "    print(\"Number is negative\")"
   ]
  },
  {
   "cell_type": "code",
   "execution_count": 5,
   "metadata": {},
   "outputs": [
    {
     "name": "stdout",
     "output_type": "stream",
     "text": [
      "Please input the number : 3\n"
     ]
    }
   ],
   "source": [
    "num = int(input(\"Please input the number : \")) ## typecast to integer\n",
    "if (num <0):\n",
    "    print(\"Number is negative\")"
   ]
  },
  {
   "cell_type": "markdown",
   "metadata": {},
   "source": [
    "## if ...  elif  statement"
   ]
  },
  {
   "cell_type": "code",
   "execution_count": 36,
   "metadata": {},
   "outputs": [
    {
     "name": "stdout",
     "output_type": "stream",
     "text": [
      "Please input the number : 3\n",
      "number is 3\n",
      "Number is positive\n"
     ]
    }
   ],
   "source": [
    "num = int(input(\"Please input the number : \"))\n",
    "print(\"number is\",num)\n",
    "if num < 0 :\n",
    "    print(\"Number is negative\")\n",
    "    \n",
    "elif num > 0 : \n",
    "    print(\"Number is positive\")"
   ]
  },
  {
   "cell_type": "code",
   "execution_count": 37,
   "metadata": {},
   "outputs": [
    {
     "name": "stdout",
     "output_type": "stream",
     "text": [
      "Please input the number : 0\n",
      "number is 0\n",
      "Number is zero\n"
     ]
    }
   ],
   "source": [
    "num = int(input(\"Please input the number : \"))\n",
    "print(\"number is\",num)\n",
    "if num < 0 :\n",
    "    print(\"Number is negative\")\n",
    "    \n",
    "elif num > 0 : \n",
    "    print(\"Number is positive\")\n",
    "else :\n",
    "    print(\"Number is zero\")"
   ]
  },
  {
   "cell_type": "markdown",
   "metadata": {},
   "source": [
    " # for  statement\n",
    " \n",
    " A for loop is used for iterating over a sequence (that is either a list, a tuple, a dictionary, a set, or a string).\n",
    " "
   ]
  },
  {
   "cell_type": "code",
   "execution_count": 16,
   "metadata": {},
   "outputs": [
    {
     "name": "stdout",
     "output_type": "stream",
     "text": [
      "i is  1\n",
      "i is  2\n",
      "i is  3\n",
      "i is  4\n"
     ]
    }
   ],
   "source": [
    "for i in [1,2,3,4]:\n",
    "            print(\"i is \",i)"
   ]
  },
  {
   "cell_type": "code",
   "execution_count": 15,
   "metadata": {},
   "outputs": [
    {
     "name": "stdout",
     "output_type": "stream",
     "text": [
      "P\n",
      "y\n",
      "t\n",
      "h\n",
      "o\n",
      "n\n"
     ]
    }
   ],
   "source": [
    "for i in 'Python':\n",
    "    print(i)"
   ]
  },
  {
   "cell_type": "code",
   "execution_count": null,
   "metadata": {},
   "outputs": [],
   "source": [
    "while (var1 <0 ):"
   ]
  },
  {
   "cell_type": "code",
   "execution_count": null,
   "metadata": {},
   "outputs": [],
   "source": []
  },
  {
   "cell_type": "markdown",
   "metadata": {},
   "source": [
    "# Strings"
   ]
  },
  {
   "cell_type": "markdown",
   "metadata": {},
   "source": [
    "    +\t\tConcatenation\n",
    "\t*\t\tRepetition\n",
    "\t[]\t\tSlice\n",
    "\t[ : ]\tRange Slice\n",
    "\tin\t\tMembership\n",
    "\tnot in\t\tMembership\n",
    "\tr/R\t\tRaw String\n",
    "\t%\t\tFormat\n"
   ]
  },
  {
   "cell_type": "code",
   "execution_count": 38,
   "metadata": {},
   "outputs": [
    {
     "name": "stdout",
     "output_type": "stream",
     "text": [
      "Machine Learning\n"
     ]
    }
   ],
   "source": [
    "str1 = \"Machine\"\n",
    "str2 = \" Learning\"\n",
    "print(str1+str2)"
   ]
  },
  {
   "cell_type": "code",
   "execution_count": 41,
   "metadata": {},
   "outputs": [
    {
     "name": "stdout",
     "output_type": "stream",
     "text": [
      " Learning Learning Learning Learning Learning Learning Learning Learning Learning Learning\n"
     ]
    }
   ],
   "source": [
    "print(str2*10)"
   ]
  },
  {
   "cell_type": "code",
   "execution_count": 43,
   "metadata": {},
   "outputs": [
    {
     "name": "stdout",
     "output_type": "stream",
     "text": [
      "ac\n"
     ]
    }
   ],
   "source": [
    "print(str1[1:3])"
   ]
  },
  {
   "cell_type": "code",
   "execution_count": 45,
   "metadata": {},
   "outputs": [
    {
     "name": "stdout",
     "output_type": "stream",
     "text": [
      "False\n"
     ]
    }
   ],
   "source": [
    "str1 = \"Lib\"\n",
    "print( 'a' in str1)"
   ]
  },
  {
   "cell_type": "markdown",
   "metadata": {},
   "source": [
    "## String Methods"
   ]
  },
  {
   "cell_type": "code",
   "execution_count": null,
   "metadata": {},
   "outputs": [],
   "source": [
    " \n"
   ]
  },
  {
   "cell_type": "code",
   "execution_count": 10,
   "metadata": {},
   "outputs": [
    {
     "name": "stdout",
     "output_type": "stream",
     "text": [
      "True\n",
      "True\n",
      "False\n",
      "True\n",
      "False\n",
      "False\n"
     ]
    }
   ],
   "source": [
    "str = \"test\"\n",
    "#str = \"56\"\n",
    "print(str.isalnum())\n",
    "print(str.isalpha())\n",
    "print(str.isdigit())\n",
    "print(str.islower())\n",
    "print(str.isnumeric())\n",
    "print(str.isspace())"
   ]
  },
  {
   "cell_type": "code",
   "execution_count": 46,
   "metadata": {},
   "outputs": [
    {
     "name": "stdout",
     "output_type": "stream",
     "text": [
      "True\n",
      "True\n",
      "False\n",
      "True\n",
      "False\n",
      "False\n"
     ]
    }
   ],
   "source": [
    "str = \"test\"\n",
    "#str = \"56\"\n",
    "print(str.isalnum())\n",
    "print(str.isalpha())\n",
    "print(str.isdigit())\n",
    "print(str.islower())\n",
    "print(str.isnumeric())\n",
    "print(str.isspace())"
   ]
  },
  {
   "cell_type": "code",
   "execution_count": 47,
   "metadata": {},
   "outputs": [
    {
     "name": "stdout",
     "output_type": "stream",
     "text": [
      "True\n",
      "False\n",
      "True\n",
      "False\n",
      "True\n",
      "False\n"
     ]
    }
   ],
   "source": [
    "str = \"56\"\n",
    "print(str.isalnum())\n",
    "print(str.isalpha())\n",
    "print(str.isdigit())\n",
    "print(str.islower())\n",
    "print(str.isnumeric())\n",
    "print(str.isspace())"
   ]
  },
  {
   "cell_type": "code",
   "execution_count": 51,
   "metadata": {},
   "outputs": [
    {
     "name": "stdout",
     "output_type": "stream",
     "text": [
      "tesx\n"
     ]
    }
   ],
   "source": [
    "str=\"TeSx\"\n",
    "str1 = str.lower()\n",
    "print(str1)"
   ]
  },
  {
   "cell_type": "code",
   "execution_count": 52,
   "metadata": {},
   "outputs": [
    {
     "name": "stdout",
     "output_type": "stream",
     "text": [
      "x\n",
      "S\n"
     ]
    }
   ],
   "source": [
    "print(max(str))\n",
    "print(min(str))"
   ]
  },
  {
   "cell_type": "code",
   "execution_count": 54,
   "metadata": {},
   "outputs": [
    {
     "name": "stdout",
     "output_type": "stream",
     "text": [
      "Machine###### Learing###### Tutorial\n",
      "Length  36\n"
     ]
    }
   ],
   "source": [
    "str1=\"######\"\n",
    "str1 = str1.join(['Machine',' Learing',' Tutorial']) ## Join with a list\n",
    "print(str1)\n",
    "print(\"Length \",len(str1))"
   ]
  },
  {
   "cell_type": "markdown",
   "metadata": {},
   "source": [
    "### Left, Center, Right Justify for Strings"
   ]
  },
  {
   "cell_type": "code",
   "execution_count": 55,
   "metadata": {},
   "outputs": [
    {
     "name": "stdout",
     "output_type": "stream",
     "text": [
      "The original string is : \n",
      " I love Python \n",
      "\n",
      "The center aligned string is : \n",
      "             I love Python               \n",
      "\n",
      "Center aligned string with fillchr: \n",
      "#############I love Python##############\n"
     ]
    }
   ],
   "source": [
    "cstr = \"I love Python\"\n",
    "  \n",
    "# Printing the original string \n",
    "print (\"The original string is : \\n\", cstr, \"\\n\") \n",
    "  \n",
    "# Printing the center aligned string  \n",
    "print (\"The center aligned string is : \") \n",
    "print (cstr.center(40), \"\\n\") \n",
    "  \n",
    "# Printing the center aligned  \n",
    "# string with fillchr \n",
    "print (\"Center aligned string with fillchr: \") \n",
    "print (cstr.center(40, '#')) \n",
    "\n"
   ]
  },
  {
   "cell_type": "code",
   "execution_count": 57,
   "metadata": {},
   "outputs": [
    {
     "name": "stdout",
     "output_type": "stream",
     "text": [
      "The original string is : \n",
      "             I love Python \n",
      "\n",
      "The left aligned string is : \n",
      "            I love Python                \n",
      "\n",
      "left aligned string with fillchr: \n",
      "            I love Python#####\n"
     ]
    }
   ],
   "source": [
    "cstr =\"            I love Python\"\n",
    "  \n",
    "# Printing the original string \n",
    "print (\"The original string is : \\n\", cstr, \"\\n\") \n",
    "  \n",
    "# Printing the center aligned string  \n",
    "print (\"The left aligned string is : \") \n",
    "print (cstr.ljust(40), \"\\n\") \n",
    "  \n",
    "# Printing the left aligned  \n",
    "# string with fillchr \n",
    "print (\"left aligned string with fillchr: \") \n",
    "print (cstr.ljust(30, '#')) \n"
   ]
  },
  {
   "cell_type": "code",
   "execution_count": 58,
   "metadata": {},
   "outputs": [
    {
     "name": "stdout",
     "output_type": "stream",
     "text": [
      "The original string is : \n",
      " I love Python \n",
      "\n",
      "The right aligned string is : \n",
      "                           I love Python \n",
      "\n",
      "Rightaligned string with fillchr: \n",
      "#################I love Python\n"
     ]
    }
   ],
   "source": [
    "cstr =\"I love Python\"\n",
    "\n",
    "print (\"The original string is : \\n\", cstr, \"\\n\") \n",
    "  \n",
    "# Printing the center aligned string  \n",
    "print (\"The right aligned string is : \") \n",
    "print (cstr.rjust(40), \"\\n\") \n",
    "  \n",
    "# Printing the right aligned  \n",
    "# string with fillchr \n",
    "print (\"Rightaligned string with fillchr: \") \n",
    "print (cstr.rjust(30, '#')) \n"
   ]
  },
  {
   "cell_type": "code",
   "execution_count": null,
   "metadata": {},
   "outputs": [],
   "source": [
    " \n",
    " \n",
    " \n"
   ]
  },
  {
   "cell_type": "markdown",
   "metadata": {},
   "source": [
    "## More String methods\n",
    "\n",
    "rjust(width,[,fillchar])\n",
    "\n",
    "rstrip()\n",
    "\n",
    "split(str=“”,num=string.count(str))\n",
    "\n",
    "splitlines(num=string.count(‘\\n’)\n",
    "\n",
    "startwith(str,beg=0,end=len(string))\n",
    "\n",
    "strp([chars])\n",
    "\n",
    "swapcase()\n",
    "\n",
    "title()\n",
    "\n",
    "translate(table,deletechars=“”)\n",
    "\n",
    "upper()\n",
    "\n",
    "zfill(width)\n",
    "\n",
    "isdecimal()\n",
    "\n"
   ]
  },
  {
   "cell_type": "markdown",
   "metadata": {},
   "source": [
    "## Getting Input values from user (keyboard inputs)"
   ]
  },
  {
   "cell_type": "code",
   "execution_count": 179,
   "metadata": {
    "scrolled": true
   },
   "outputs": [
    {
     "name": "stdout",
     "output_type": "stream",
     "text": [
      "Please enter your name : Janet\n",
      "You entered  Janet\n"
     ]
    }
   ],
   "source": [
    "name = input(\"Please enter your name : \")\n",
    "print(\"You entered \",name)"
   ]
  },
  {
   "cell_type": "code",
   "execution_count": 180,
   "metadata": {},
   "outputs": [
    {
     "name": "stdout",
     "output_type": "stream",
     "text": [
      "please enter age20\n",
      "Hello Janet your age is  20\n"
     ]
    }
   ],
   "source": [
    "age = input(\"please enter age\")\n",
    "print(\"Hello\", name,\"your age is \", age)"
   ]
  },
  {
   "cell_type": "code",
   "execution_count": null,
   "metadata": {},
   "outputs": [],
   "source": []
  },
  {
   "cell_type": "code",
   "execution_count": null,
   "metadata": {},
   "outputs": [],
   "source": []
  },
  {
   "cell_type": "markdown",
   "metadata": {},
   "source": [
    "# Lists"
   ]
  },
  {
   "cell_type": "code",
   "execution_count": 59,
   "metadata": {},
   "outputs": [
    {
     "name": "stdout",
     "output_type": "stream",
     "text": [
      "[1, 'stringelement', 2.0, 'name']\n"
     ]
    }
   ],
   "source": [
    "samplelist = [1,'stringelement', 2.0, \"name\"]\n",
    "print(samplelist)"
   ]
  },
  {
   "cell_type": "markdown",
   "metadata": {},
   "source": [
    "## Accessing elements"
   ]
  },
  {
   "cell_type": "code",
   "execution_count": 60,
   "metadata": {},
   "outputs": [
    {
     "name": "stdout",
     "output_type": "stream",
     "text": [
      "1\n",
      "stringelement\n"
     ]
    }
   ],
   "source": [
    "print(samplelist[0])\n",
    "print(samplelist[1])"
   ]
  },
  {
   "cell_type": "markdown",
   "metadata": {},
   "source": [
    "# Nested List"
   ]
  },
  {
   "cell_type": "code",
   "execution_count": 64,
   "metadata": {},
   "outputs": [
    {
     "name": "stdout",
     "output_type": "stream",
     "text": [
      "['first', 'name', [1, 'stringelement', 2.0, 'name']]\n",
      "[1, 'stringelement', 2.0, 'name']\n",
      "2.0\n"
     ]
    }
   ],
   "source": [
    "nestedlist=['first','name',samplelist]\n",
    "print(nestedlist)\n",
    "print(nestedlist[2])\n",
    "print(nestedlist[2][2])"
   ]
  },
  {
   "cell_type": "code",
   "execution_count": null,
   "metadata": {},
   "outputs": [],
   "source": [
    " "
   ]
  },
  {
   "cell_type": "markdown",
   "metadata": {},
   "source": [
    "## # Negative Indexing"
   ]
  },
  {
   "cell_type": "code",
   "execution_count": 65,
   "metadata": {},
   "outputs": [
    {
     "name": "stdout",
     "output_type": "stream",
     "text": [
      "[1, 'stringelement', 2.0, 'name']\n",
      "name\n"
     ]
    }
   ],
   "source": [
    "print(nestedlist[-1])\n",
    "print(nestedlist[-2])"
   ]
  },
  {
   "cell_type": "markdown",
   "metadata": {},
   "source": [
    "### Slicing"
   ]
  },
  {
   "cell_type": "code",
   "execution_count": 69,
   "metadata": {},
   "outputs": [
    {
     "name": "stdout",
     "output_type": "stream",
     "text": [
      "['a', 'b', 'c', 'd', 'e', 'f', 'g']\n",
      "['a', 'b', 'c']\n",
      "['d', 'e', 'f', 'g']\n"
     ]
    }
   ],
   "source": [
    "alphabet=['a','b','c','d','e','f','g']\n",
    "print(alphabet)\n",
    "print(alphabet[:3])\n",
    "print(alphabet[3:])\n",
    "#print(alphabet[:])### print from beginning to end"
   ]
  },
  {
   "cell_type": "markdown",
   "metadata": {},
   "source": [
    "## Changing or adding elements to a list"
   ]
  },
  {
   "cell_type": "code",
   "execution_count": 71,
   "metadata": {},
   "outputs": [
    {
     "name": "stdout",
     "output_type": "stream",
     "text": [
      "['a', 'b', 'c', 'd', 'e', 'f', 'h']\n"
     ]
    }
   ],
   "source": [
    "alphabet[6]='h'\n",
    "print(alphabet)"
   ]
  },
  {
   "cell_type": "code",
   "execution_count": 72,
   "metadata": {},
   "outputs": [
    {
     "ename": "IndexError",
     "evalue": "list assignment index out of range",
     "output_type": "error",
     "traceback": [
      "\u001b[0;31m---------------------------------------------------------------------------\u001b[0m",
      "\u001b[0;31mIndexError\u001b[0m                                Traceback (most recent call last)",
      "\u001b[0;32m<ipython-input-72-96a1cb631625>\u001b[0m in \u001b[0;36m<module>\u001b[0;34m()\u001b[0m\n\u001b[0;32m----> 1\u001b[0;31m \u001b[0malphabet\u001b[0m\u001b[0;34m[\u001b[0m\u001b[0;36m7\u001b[0m\u001b[0;34m]\u001b[0m\u001b[0;34m=\u001b[0m\u001b[0;34m'h'\u001b[0m\u001b[0;34m\u001b[0m\u001b[0m\n\u001b[0m\u001b[1;32m      2\u001b[0m \u001b[0mprint\u001b[0m\u001b[0;34m(\u001b[0m\u001b[0malphabet\u001b[0m\u001b[0;34m)\u001b[0m\u001b[0;34m\u001b[0m\u001b[0m\n",
      "\u001b[0;31mIndexError\u001b[0m: list assignment index out of range"
     ]
    }
   ],
   "source": [
    "alphabet[7]='h'\n",
    "print(alphabet)"
   ]
  },
  {
   "cell_type": "code",
   "execution_count": 74,
   "metadata": {},
   "outputs": [
    {
     "name": "stdout",
     "output_type": "stream",
     "text": [
      "['a', 'b', 'c', 'd', 'e', 'f', 'h', 'i', 'i']\n"
     ]
    }
   ],
   "source": [
    "alphabet.append('i')\n",
    "print(alphabet)\n",
    "                \n",
    "           "
   ]
  },
  {
   "cell_type": "code",
   "execution_count": 75,
   "metadata": {},
   "outputs": [
    {
     "name": "stdout",
     "output_type": "stream",
     "text": [
      "['a', 'b', 'c', 'd', 'e', 'x', 'h', 'i', 'i']\n"
     ]
    }
   ],
   "source": [
    "alphabet[5]='x'\n",
    "print(alphabet)"
   ]
  },
  {
   "cell_type": "code",
   "execution_count": 76,
   "metadata": {},
   "outputs": [
    {
     "name": "stdout",
     "output_type": "stream",
     "text": [
      "['a', 'b', 'c', 'd', 'e', 'x', 'y', 'z', 'i', 'i']\n"
     ]
    }
   ],
   "source": [
    "alphabet[5:7]=['x','y','z']\n",
    "print(alphabet)"
   ]
  },
  {
   "cell_type": "code",
   "execution_count": null,
   "metadata": {},
   "outputs": [],
   "source": [
    "print(alphabet)"
   ]
  },
  {
   "cell_type": "code",
   "execution_count": 77,
   "metadata": {},
   "outputs": [
    {
     "name": "stdout",
     "output_type": "stream",
     "text": [
      "['a', 'b', 'c', 'd', 'e', 'x', 'y', 'z', 'i', 'h', 'k']\n"
     ]
    }
   ],
   "source": [
    "alphabet[9:10]=['h','k']\n",
    "print(alphabet)"
   ]
  },
  {
   "cell_type": "markdown",
   "metadata": {},
   "source": [
    "## append and extend"
   ]
  },
  {
   "cell_type": "code",
   "execution_count": 86,
   "metadata": {},
   "outputs": [
    {
     "name": "stdout",
     "output_type": "stream",
     "text": [
      "['red', 'blue', 'green', 'red', 'blue', 'green', 'red', 'blue', 'green']\n"
     ]
    }
   ],
   "source": [
    "colors=['red','blue','green']\n",
    "#colors.append('violet')\n",
    "#print(colors)\n",
    "#colors.extend('yellow')\n",
    "#print(colors)\n",
    "#colors.extend(['yellow','indigo','orange'])\n",
    "#print(colors)\n",
    "#colors = colors+  ['yellow','indigo','orange']\n",
    "#print(colors)\n",
    "colors=colors*3\n",
    "print(colors)"
   ]
  },
  {
   "cell_type": "code",
   "execution_count": 87,
   "metadata": {},
   "outputs": [
    {
     "name": "stdout",
     "output_type": "stream",
     "text": [
      "[1, 3, 5, 7, 9, 11]\n",
      "[1, 3, 5, 7, 9, 11, 1, 3, 5, 7, 9, 11]\n"
     ]
    }
   ],
   "source": [
    "odd = [1,3,5]\n",
    "odd=odd+[7,9,11]\n",
    "print(odd)\n",
    "odd=odd*2\n",
    "print(odd)"
   ]
  },
  {
   "cell_type": "markdown",
   "metadata": {},
   "source": [
    "## insert"
   ]
  },
  {
   "cell_type": "code",
   "execution_count": 3,
   "metadata": {},
   "outputs": [
    {
     "name": "stdout",
     "output_type": "stream",
     "text": [
      "[1, 9]\n",
      "[1, 9, 5, 7, 9, 11]\n"
     ]
    }
   ],
   "source": [
    "odd=[1,9]\n",
    "#odd.insert(3,5) ### check on this\n",
    "print(odd)\n",
    "odd[2:5]=[5,7,9,11]\n",
    "print(odd)\n",
    " "
   ]
  },
  {
   "cell_type": "code",
   "execution_count": 2,
   "metadata": {},
   "outputs": [
    {
     "name": "stdout",
     "output_type": "stream",
     "text": [
      "[1, 3]\n",
      "[1, 5, 7, 9, 11, 13]\n"
     ]
    }
   ],
   "source": [
    "odd=[1,3]\n",
    "print(odd)\n",
    "#odd[2:3] = [13,15,17]\n",
    "\n",
    "odd[1:5] =[5,7,9,11,13] # 3 is replaced\n",
    "print(odd)"
   ]
  },
  {
   "cell_type": "code",
   "execution_count": 4,
   "metadata": {},
   "outputs": [
    {
     "name": "stdout",
     "output_type": "stream",
     "text": [
      "[9, 5, 7, 9, 11]\n"
     ]
    }
   ],
   "source": [
    "del(odd[0])\n",
    "print(odd)"
   ]
  },
  {
   "cell_type": "code",
   "execution_count": 5,
   "metadata": {},
   "outputs": [
    {
     "name": "stdout",
     "output_type": "stream",
     "text": [
      "[11]\n"
     ]
    }
   ],
   "source": [
    "del(odd[0:4]) #delete 4 elements starting at index 0\n",
    "print(odd)"
   ]
  },
  {
   "cell_type": "markdown",
   "metadata": {},
   "source": [
    "## Basic List Operators"
   ]
  },
  {
   "cell_type": "code",
   "execution_count": 7,
   "metadata": {},
   "outputs": [
    {
     "name": "stdout",
     "output_type": "stream",
     "text": [
      "5\n",
      "[1, 3, 5, 7, 9, 11, 13, 15]\n",
      "No, 12 is not a member\n",
      "Maximum of the list 15\n",
      "Minimum of the list is 1\n"
     ]
    }
   ],
   "source": [
    "odd = [1,3,5,7,9]\n",
    "print(len(odd)) #length of list\n",
    "odd = odd+ [11,13,15] #concatenation\n",
    "print(odd)\n",
    "member=12\n",
    "if member in odd:\n",
    "    print(\"Yes,\",member,\"is a member\")\n",
    "else:\n",
    "    print(\"No,\",member,\"is not a member\")\n",
    "    \n",
    "print(\"Maximum of the list\",max(odd))\n",
    "print(\"Minimum of the list is\",min(odd))"
   ]
  },
  {
   "cell_type": "markdown",
   "metadata": {},
   "source": [
    "## Iterations\n",
    "\n",
    "For loop in Python is very different from that of C and Java"
   ]
  },
  {
   "cell_type": "code",
   "execution_count": null,
   "metadata": {},
   "outputs": [],
   "source": [
    "for i = 1 to  10 "
   ]
  },
  {
   "cell_type": "code",
   "execution_count": 9,
   "metadata": {},
   "outputs": [
    {
     "name": "stdout",
     "output_type": "stream",
     "text": [
      "red\n",
      "blue\n",
      "green\n",
      "3\n"
     ]
    }
   ],
   "source": [
    "colors =['red','blue','green', 3]\n",
    "for color in colors:\n",
    "    print(color)"
   ]
  },
  {
   "cell_type": "markdown",
   "metadata": {},
   "source": [
    "#### How aboout indexes?\n",
    "For e.g., in C we have \n",
    "###### for i = 1 to 10\n",
    "            print(i)"
   ]
  },
  {
   "cell_type": "code",
   "execution_count": 10,
   "metadata": {},
   "outputs": [
    {
     "name": "stdout",
     "output_type": "stream",
     "text": [
      "0 red\n",
      "1 blue\n",
      "2 green\n"
     ]
    }
   ],
   "source": [
    "colors =['red','blue','green']\n",
    "for color in range(len(colors)):\n",
    "    print(color, colors[color])"
   ]
  },
  {
   "cell_type": "code",
   "execution_count": 13,
   "metadata": {},
   "outputs": [
    {
     "ename": "TypeError",
     "evalue": "list indices must be integers or slices, not str",
     "output_type": "error",
     "traceback": [
      "\u001b[0;31m---------------------------------------------------------------------------\u001b[0m",
      "\u001b[0;31mTypeError\u001b[0m                                 Traceback (most recent call last)",
      "\u001b[0;32m<ipython-input-13-41eb9499d4f0>\u001b[0m in \u001b[0;36m<module>\u001b[0;34m()\u001b[0m\n\u001b[1;32m      6\u001b[0m \u001b[0;31m#print(list(colors))\u001b[0m\u001b[0;34m\u001b[0m\u001b[0;34m\u001b[0m\u001b[0m\n\u001b[1;32m      7\u001b[0m \u001b[0;32mfor\u001b[0m \u001b[0mnum\u001b[0m\u001b[0;34m,\u001b[0m \u001b[0mcolor\u001b[0m \u001b[0;32min\u001b[0m \u001b[0menumerate\u001b[0m \u001b[0;34m(\u001b[0m\u001b[0mcolor\u001b[0m\u001b[0;34m,\u001b[0m \u001b[0mstart\u001b[0m\u001b[0;34m=\u001b[0m\u001b[0;36m0\u001b[0m\u001b[0;34m)\u001b[0m\u001b[0;34m:\u001b[0m\u001b[0;34m\u001b[0m\u001b[0m\n\u001b[0;32m----> 8\u001b[0;31m    \u001b[0mprint\u001b[0m\u001b[0;34m(\u001b[0m\u001b[0mcolors\u001b[0m\u001b[0;34m[\u001b[0m\u001b[0mcolor\u001b[0m\u001b[0;34m]\u001b[0m\u001b[0;34m)\u001b[0m\u001b[0;34m\u001b[0m\u001b[0m\n\u001b[0m",
      "\u001b[0;31mTypeError\u001b[0m: list indices must be integers or slices, not str"
     ]
    }
   ],
   "source": [
    "colors =['red','blue','green']\n",
    "#print(enumerate(colors))\n",
    "#print(type(enumerate(colors)))\n",
    "#print(list(enumerate(colors)))\n",
    "#colors=enumerate(colors,10)\n",
    "#print(list(colors))\n",
    "for num, color in enumerate (color, start=0):\n",
    "   print(colors[color])"
   ]
  },
  {
   "cell_type": "markdown",
   "metadata": {},
   "source": [
    "### Looping over an enumerate Object"
   ]
  },
  {
   "cell_type": "code",
   "execution_count": 14,
   "metadata": {},
   "outputs": [
    {
     "name": "stdout",
     "output_type": "stream",
     "text": [
      "(0, 'red')\n",
      "(1, 'blue')\n",
      "(2, 'green')\n",
      "\n",
      "\n",
      "0 red\n",
      "1 blue\n",
      "2 green\n",
      "\n",
      "\n",
      "10 red\n",
      "11 blue\n",
      "12 green\n"
     ]
    }
   ],
   "source": [
    " \n",
    "colors =['red','blue','green']\n",
    " \n",
    "for item in enumerate(colors):\n",
    "  print(item)\n",
    "\n",
    "print('\\n')\n",
    "for count, item in enumerate(colors):\n",
    "  print(count, item)\n",
    "\n",
    "print('\\n')\n",
    "# changing default start value\n",
    "for count, item in enumerate(colors, 10):\n",
    "  print(count, item)"
   ]
  },
  {
   "cell_type": "markdown",
   "metadata": {},
   "source": [
    "### all method in list\n",
    "\n",
    "all() Parameters\n",
    "The all() method takes a single parameter:\n",
    "\n",
    "iterable - any iterable (list, tuple, dictionary, etc.) which contains the elements\n",
    "Return Value from all()\n",
    "The all() method returns:\n",
    "\n",
    "True - If all elements in an iterable are true\n",
    "False - If any element in an iterable is false"
   ]
  },
  {
   "cell_type": "code",
   "execution_count": 15,
   "metadata": {},
   "outputs": [
    {
     "name": "stdout",
     "output_type": "stream",
     "text": [
      "No false value-- True\n",
      "One value is false-- False\n",
      "All values are true,one is zero-- False\n",
      "One true value, othera are false-- False\n",
      "Empty list-- True\n"
     ]
    }
   ],
   "source": [
    "l = [1, 3, 4, 5, -1]\n",
    "print(\"No false value--\",all(l))\n",
    "\n",
    "# all values false\n",
    "l = [0, False]\n",
    "print(\"One value is false--\",all(l))\n",
    "\n",
    "# one false value\n",
    "l = [1, 3, 4, 0]\n",
    "print(\"All values are true,one is zero--\",all(l))\n",
    "\n",
    "# one true value\n",
    "l = [0, False, 5]\n",
    "print(\"One true value, othera are false--\",all(l))\n",
    "\n",
    "# empty iterable\n",
    "l = []\n",
    "print(\"Empty list--\",all(l))"
   ]
  },
  {
   "cell_type": "code",
   "execution_count": null,
   "metadata": {},
   "outputs": [],
   "source": [
    "print(\"AAAA\")\n",
    "alist=[1,2,3,4,5]\n",
    "print(\"The list is \",alist)\n",
    "for i in alist:\n",
    "    print(\"This is i\",i)\n",
    "asquaredlist=[i*i for i in alist]\n",
    "asquaredlist\n",
    "print(asquaredlist)"
   ]
  },
  {
   "cell_type": "markdown",
   "metadata": {},
   "source": [
    "# TUPLES"
   ]
  },
  {
   "cell_type": "code",
   "execution_count": 18,
   "metadata": {},
   "outputs": [
    {
     "name": "stdout",
     "output_type": "stream",
     "text": [
      "(1, [2, 3], 'Sara')\n",
      "first element [2, 3]\n"
     ]
    }
   ],
   "source": [
    "sampletuple=(1,[2,3],\"Sara\")\n",
    "#samplelist=[1,[2,3],\"Sara\"]\n",
    "print(sampletuple)\n",
    "#print(samplelist)\n",
    "print(\"first element\",sampletuple[1])\n"
   ]
  },
  {
   "cell_type": "markdown",
   "metadata": {},
   "source": [
    "## Tuple with one element"
   ]
  },
  {
   "cell_type": "code",
   "execution_count": 19,
   "metadata": {},
   "outputs": [
    {
     "name": "stdout",
     "output_type": "stream",
     "text": [
      "hello\n",
      "<class 'str'>\n"
     ]
    }
   ],
   "source": [
    "onetuple=(\"hello\")\n",
    "print(onetuple)\n",
    "print(type(onetuple))\n"
   ]
  },
  {
   "cell_type": "code",
   "execution_count": 20,
   "metadata": {},
   "outputs": [
    {
     "name": "stdout",
     "output_type": "stream",
     "text": [
      "('hello',)\n",
      "<class 'tuple'>\n"
     ]
    }
   ],
   "source": [
    "onetuple=(\"hello\",)\n",
    "print(onetuple)\n",
    "print(type(onetuple))"
   ]
  },
  {
   "cell_type": "code",
   "execution_count": 21,
   "metadata": {},
   "outputs": [
    {
     "name": "stdout",
     "output_type": "stream",
     "text": [
      "('hello',)\n",
      "<class 'tuple'>\n"
     ]
    }
   ],
   "source": [
    "onetuple=\"hello\",\n",
    "print(onetuple)\n",
    "print(type(onetuple))"
   ]
  },
  {
   "cell_type": "markdown",
   "metadata": {},
   "source": [
    "## Tuples are Immutable\n",
    "#### This means that elements of a tuple cannot be changed once it has been assigned. But, if the element is itself a mutable datatype like list, its nested items can be changed. We can also assign a tuple to different values (reassignment"
   ]
  },
  {
   "cell_type": "code",
   "execution_count": 31,
   "metadata": {},
   "outputs": [
    {
     "name": "stdout",
     "output_type": "stream",
     "text": [
      "(3, 5, 7)\n",
      "(9, 10, 11)\n",
      "----\n",
      "(3, 5, 7) (3, 5, 7)\n"
     ]
    }
   ],
   "source": [
    "tup1=(3,5,7)\n",
    "\n",
    "print(tup1)\n",
    "#tup1(0)=4\n",
    "#tup1[1]=4\n",
    "tup2 = (9,10,11)\n",
    "print(tup2)\n",
    "tup2=tup1  ## This is reassignment\n",
    "print(\"----\")\n",
    "print(tup1,tup2)  "
   ]
  },
  {
   "cell_type": "markdown",
   "metadata": {},
   "source": [
    "##### Lets compare this to changing elements in a list"
   ]
  },
  {
   "cell_type": "code",
   "execution_count": 28,
   "metadata": {},
   "outputs": [
    {
     "name": "stdout",
     "output_type": "stream",
     "text": [
      "[1, 5, 7]\n"
     ]
    }
   ],
   "source": [
    "list1 = [3,5,7]\n",
    "list1[0]=1\n",
    "print(list1)"
   ]
  },
  {
   "cell_type": "code",
   "execution_count": 202,
   "metadata": {},
   "outputs": [
    {
     "name": "stdout",
     "output_type": "stream",
     "text": [
      "[3, 5, 7, 9]\n",
      "[3, 5, 7, 9, [11, 13, 15]]\n"
     ]
    }
   ],
   "source": [
    "list1=[3,5,7]\n",
    "#list1[3]=9\n",
    "list1.append(9)\n",
    "print(list1)\n",
    "list1.append([11,13,15])\n",
    "print(list1)"
   ]
  },
  {
   "cell_type": "markdown",
   "metadata": {},
   "source": [
    "### changing list element in a Tuple"
   ]
  },
  {
   "cell_type": "code",
   "execution_count": 34,
   "metadata": {},
   "outputs": [
    {
     "name": "stdout",
     "output_type": "stream",
     "text": [
      "(1, 2, [3, 4, 5])\n"
     ]
    }
   ],
   "source": [
    "tup = (1,2,[3,4,5])\n",
    "print(tup)"
   ]
  },
  {
   "cell_type": "code",
   "execution_count": 35,
   "metadata": {},
   "outputs": [
    {
     "ename": "TypeError",
     "evalue": "'tuple' object does not support item assignment",
     "output_type": "error",
     "traceback": [
      "\u001b[0;31m---------------------------------------------------------------------------\u001b[0m",
      "\u001b[0;31mTypeError\u001b[0m                                 Traceback (most recent call last)",
      "\u001b[0;32m<ipython-input-35-988ec57172d6>\u001b[0m in \u001b[0;36m<module>\u001b[0;34m()\u001b[0m\n\u001b[0;32m----> 1\u001b[0;31m \u001b[0mtup\u001b[0m\u001b[0;34m[\u001b[0m\u001b[0;36m2\u001b[0m\u001b[0;34m]\u001b[0m \u001b[0;34m=\u001b[0m \u001b[0;34m[\u001b[0m\u001b[0;36m7\u001b[0m\u001b[0;34m,\u001b[0m\u001b[0;36m9\u001b[0m\u001b[0;34m,\u001b[0m\u001b[0;36m11\u001b[0m\u001b[0;34m]\u001b[0m\u001b[0;34m\u001b[0m\u001b[0m\n\u001b[0m\u001b[1;32m      2\u001b[0m \u001b[0mprint\u001b[0m\u001b[0;34m(\u001b[0m\u001b[0mtup\u001b[0m\u001b[0;34m)\u001b[0m\u001b[0;34m\u001b[0m\u001b[0m\n",
      "\u001b[0;31mTypeError\u001b[0m: 'tuple' object does not support item assignment"
     ]
    }
   ],
   "source": [
    "tup[2] = [7,9,11]\n",
    "print(tup)"
   ]
  },
  {
   "cell_type": "code",
   "execution_count": 36,
   "metadata": {},
   "outputs": [
    {
     "name": "stdout",
     "output_type": "stream",
     "text": [
      "(1, 2, [7, 9, 11])\n"
     ]
    }
   ],
   "source": [
    "tup[2][0]=7\n",
    "tup[2][1]=9\n",
    "tup[2][2]=11\n",
    "print(tup)"
   ]
  },
  {
   "cell_type": "code",
   "execution_count": null,
   "metadata": {},
   "outputs": [],
   "source": [
    "sample=(1,3,5)\n",
    "#sample.append(7)\n",
    "#sample.insert(1,11)"
   ]
  },
  {
   "cell_type": "code",
   "execution_count": 183,
   "metadata": {},
   "outputs": [
    {
     "name": "stdout",
     "output_type": "stream",
     "text": [
      "(1, 1.5, 3, 'name')\n",
      "(2, 2.5, 4, 'name1')\n",
      "(1, 1.5, 3, 'name')\n",
      "(1, 'hello', 3, 'name', 5)\n"
     ]
    }
   ],
   "source": [
    "sample1 =(1,1.5,3,\"name\")\n",
    "sample2 = (2,2.5,4,\"name1\")\n",
    "print(sample1)\n",
    "print(sample2)\n",
    "sample2=sample1\n",
    "print(sample2)\n",
    "sample1 =(1,\"hello\",3,\"name\",5)\n",
    "sample2 = (2,3,4,\"name1\")\n",
    "sample2=sample1\n",
    "print(sample2)\n",
    "\n"
   ]
  },
  {
   "cell_type": "code",
   "execution_count": null,
   "metadata": {},
   "outputs": [],
   "source": []
  },
  {
   "cell_type": "markdown",
   "metadata": {},
   "source": [
    " # Python Dictionary"
   ]
  },
  {
   "cell_type": "markdown",
   "metadata": {},
   "source": [
    "###### # Python dictionary is an unordered collection of items. While other compound data types have only value as an element, a dictionary has a key: value pair. Dictionaries are optimized to retrieve values when the key is known."
   ]
  },
  {
   "cell_type": "markdown",
   "metadata": {},
   "source": [
    "## Creating a Dictionary"
   ]
  },
  {
   "cell_type": "code",
   "execution_count": 37,
   "metadata": {},
   "outputs": [
    {
     "name": "stdout",
     "output_type": "stream",
     "text": [
      "{1: 'apple', 2: 'orange'}\n",
      "{'name': 'Mary', 1: [2, 4, 3], 3: 'Apple'}\n",
      "{1: 'apple', 2: 'orange'}\n",
      "{1: 'apple', 2: 'Orange'}\n"
     ]
    }
   ],
   "source": [
    " # empty dictionary\n",
    "my_dict = {}\n",
    "\n",
    "# dictionary with integer keys\n",
    "my_dict = {1: 'apple', 2: 'orange'}\n",
    "print(my_dict)\n",
    "# dictionary with mixed keys\n",
    "my_dict = {'name': 'Mary', 1: [2, 4, 3], 3 : 'Apple'}\n",
    "print(my_dict)\n",
    "# using dict() built-in function\n",
    "my_dict = dict({1:'apple', 2:'orange'})\n",
    "print(my_dict)\n",
    "# from sequence having each item as a pair\n",
    "my_dict = dict([(1,'apple'), (2,'Orange')])\n",
    "print(my_dict)"
   ]
  },
  {
   "cell_type": "markdown",
   "metadata": {},
   "source": [
    "# Access elements from a dictionary"
   ]
  },
  {
   "cell_type": "code",
   "execution_count": 39,
   "metadata": {},
   "outputs": [
    {
     "ename": "SyntaxError",
     "evalue": "invalid syntax (<ipython-input-39-8a03400b8194>, line 10)",
     "output_type": "error",
     "traceback": [
      "\u001b[0;36m  File \u001b[0;32m\"<ipython-input-39-8a03400b8194>\"\u001b[0;36m, line \u001b[0;32m10\u001b[0m\n\u001b[0;31m    Trying to access keys which doesn't exist throws error\u001b[0m\n\u001b[0m            ^\u001b[0m\n\u001b[0;31mSyntaxError\u001b[0m\u001b[0;31m:\u001b[0m invalid syntax\n"
     ]
    }
   ],
   "source": [
    " my_dict = {'name':'Meera', 'age': 26}\n",
    "print(\"Intial Dict\",my_dict)\n",
    "\n",
    "# Output: Meera\n",
    "print(my_dict['name'])\n",
    "\n",
    "# Output: 26\n",
    "print(my_dict.get('age'))\n",
    "\n",
    " Trying to access keys which doesn't exist throws error\n",
    " # my_dict.get('location')\n",
    "# my_dict['location']"
   ]
  },
  {
   "cell_type": "code",
   "execution_count": 41,
   "metadata": {},
   "outputs": [
    {
     "name": "stdout",
     "output_type": "stream",
     "text": [
      "Before change my dictionary is -- {'name': 'Meera', 'age': 26}\n",
      "After changing age My dict-- {'name': 'Meera', 'age': 27}\n",
      "After adding Address  -- {'name': 'Meera', 'age': 27, 'address': 'Trivandrum'}\n"
     ]
    }
   ],
   "source": [
    "my_dict = {'name' : 'Meera','age':26}\n",
    "print(\"Before change my dictionary is --\",my_dict)\n",
    "\n",
    "# update value\n",
    "\n",
    "my_dict['age'] = 27\n",
    "\n",
    "print(\"After changing age My dict--\",my_dict)\n",
    "\n",
    "# add another item\n",
    "my_dict['address'] = 'Trivandrum'  \n",
    "\n",
    "print(\"After adding Address  --\",my_dict)\n",
    " "
   ]
  },
  {
   "cell_type": "markdown",
   "metadata": {},
   "source": [
    "## Print Keys and values"
   ]
  },
  {
   "cell_type": "code",
   "execution_count": 42,
   "metadata": {},
   "outputs": [
    {
     "name": "stdout",
     "output_type": "stream",
     "text": [
      "dict_keys(['name', 'age', 'address'])\n",
      "dict_values(['Meera', 27, 'Trivandrum'])\n"
     ]
    }
   ],
   "source": [
    "print(my_dict.keys())\n",
    "print(my_dict.values())"
   ]
  },
  {
   "cell_type": "code",
   "execution_count": 47,
   "metadata": {},
   "outputs": [
    {
     "name": "stdout",
     "output_type": "stream",
     "text": [
      "key is one value is  1\n",
      "key is two value is  2\n",
      "key is three value is  3\n"
     ]
    }
   ],
   "source": [
    "my_dict={'one':'1', 'two': 2, 'three': 3}\n",
    "for k,v in my_dict.items():\n",
    "    print(\"key is\",k,\"value is \",v)\n",
    "#print(my_dict[1].value)   "
   ]
  },
  {
   "cell_type": "markdown",
   "metadata": {},
   "source": [
    "# How to delete or remove elements from a dictionary?\n"
   ]
  },
  {
   "cell_type": "code",
   "execution_count": 51,
   "metadata": {},
   "outputs": [
    {
     "name": "stdout",
     "output_type": "stream",
     "text": [
      "Remove the element containing item 4 squares {1: 1, 2: 4, 3: 9, 5: 25}\n",
      "After removing an abitrary item {1: 1, 2: 4, 3: 9}\n",
      "After deleting 1 {2: 4, 3: 9}\n",
      "After removing all items {}\n"
     ]
    },
    {
     "ename": "NameError",
     "evalue": "name 'squares' is not defined",
     "output_type": "error",
     "traceback": [
      "\u001b[0;31m---------------------------------------------------------------------------\u001b[0m",
      "\u001b[0;31mNameError\u001b[0m                                 Traceback (most recent call last)",
      "\u001b[0;32m<ipython-input-51-b3d107235602>\u001b[0m in \u001b[0;36m<module>\u001b[0;34m()\u001b[0m\n\u001b[1;32m     22\u001b[0m \u001b[0;34m\u001b[0m\u001b[0m\n\u001b[1;32m     23\u001b[0m \u001b[0;31m#Throws Error\u001b[0m\u001b[0;34m\u001b[0m\u001b[0;34m\u001b[0m\u001b[0m\n\u001b[0;32m---> 24\u001b[0;31m \u001b[0mprint\u001b[0m\u001b[0;34m(\u001b[0m\u001b[0msquares\u001b[0m\u001b[0;34m)\u001b[0m\u001b[0;34m\u001b[0m\u001b[0m\n\u001b[0m",
      "\u001b[0;31mNameError\u001b[0m: name 'squares' is not defined"
     ]
    }
   ],
   "source": [
    "   # create a dictionary\n",
    "squares = {1:1, 2:4, 3:9, 4:16, 5:25}  \n",
    "squares.pop(4) \n",
    "print(\"Remove the element containing item 4 squares\",squares)\n",
    "\n",
    "# remove an arbitrary item\n",
    "squares.popitem()\n",
    "\n",
    "print(\"After removing an abitrary item\", squares)\n",
    "\n",
    "del squares[1]  \n",
    "\n",
    "print('After deleting 1', squares)\n",
    "\n",
    "# remove all items \n",
    "squares.clear()\n",
    "\n",
    "print(\"After removing all items\", squares)\n",
    "\n",
    "# delete the dictionary itself\n",
    "del squares\n",
    "\n",
    "#Throws Error\n",
    "print(squares)"
   ]
  },
  {
   "cell_type": "markdown",
   "metadata": {},
   "source": [
    "# Dictionary Methods\n",
    "\n",
    "## fromkeys\n",
    "The method fromkeys() creates a new dictionary with keys from seq and values set to value.\n",
    "\n",
    "Syntax\n",
    "Syntax for fromkeys() method − dict.fromkeys(seq[, value]))"
   ]
  },
  {
   "cell_type": "code",
   "execution_count": 53,
   "metadata": {},
   "outputs": [
    {
     "name": "stdout",
     "output_type": "stream",
     "text": [
      "New Dictionary  {'name': 10, 'age': 10, 'height': 10}\n"
     ]
    }
   ],
   "source": [
    "seq = ('name', 'age', 'height')\n",
    "\n",
    "#dict = dict.fromkeys(seq)\n",
    "#print(dict)\n",
    "#print (\" Dictionary \",dict)  \n",
    "\n",
    "dict = dict.fromkeys(seq, 10)\n",
    "print (\"New Dictionary \",dict)  "
   ]
  },
  {
   "cell_type": "markdown",
   "metadata": {},
   "source": [
    "## Copy method"
   ]
  },
  {
   "cell_type": "code",
   "execution_count": 54,
   "metadata": {},
   "outputs": [
    {
     "name": "stdout",
     "output_type": "stream",
     "text": [
      "New Dictionary :  {'Name': 'John', 'Age': 7, 'Class': 'First'}\n"
     ]
    }
   ],
   "source": [
    "dict1 = {'Name': 'John', 'Age': 7, 'Class': 'First'}\n",
    "dict2 = dict1.copy()\n",
    "print (\"New Dictionary : \",dict2)"
   ]
  },
  {
   "cell_type": "markdown",
   "metadata": {},
   "source": [
    "## Getting Dictionary Elements"
   ]
  },
  {
   "cell_type": "code",
   "execution_count": 212,
   "metadata": {},
   "outputs": [
    {
     "name": "stdout",
     "output_type": "stream",
     "text": [
      "{'Name': 'Zara', 'Age': 27}\n",
      "Age-- 27\n",
      "Name--> Zara\n"
     ]
    }
   ],
   "source": [
    "dict = {'Name': 'Zara', 'Age': 27}\n",
    "print(dict)\n",
    "print(\"Age--\",dict.get('Age'))\n",
    "print(\"Name-->\",dict.get('Name'))\n",
    " "
   ]
  },
  {
   "cell_type": "markdown",
   "metadata": {},
   "source": [
    "# # Updating Dictionary\n",
    "You can update a dictionary by adding a new entry or a key-value pair, \n",
    "modifying an existing entry, or deleting an existing entry  "
   ]
  },
  {
   "cell_type": "code",
   "execution_count": 213,
   "metadata": {},
   "outputs": [
    {
     "name": "stdout",
     "output_type": "stream",
     "text": [
      "{'Name': 'Zara', 'Age': 7, 'Class': 'First'}\n",
      "{'Name': 'Zara', 'Age': 8, 'Class': 'First', 'City': 'Trivandrum'}\n"
     ]
    }
   ],
   "source": [
    "dict = {'Name': 'Zara', 'Age': 7, 'Class': 'First'}\n",
    "print(dict)\n",
    "dict['Age'] = 8; # update existing entry\n",
    "dict['City'] = \"Trivandrum\" # Add new entry\n",
    "\n",
    "print(dict)  "
   ]
  },
  {
   "cell_type": "code",
   "execution_count": 214,
   "metadata": {},
   "outputs": [
    {
     "name": "stdout",
     "output_type": "stream",
     "text": [
      "Initial Dictionary is {'Name': 'Zara', 'Age': 7, 'Class': 'First'}\n",
      "After deleting Name {'Age': 7, 'Class': 'First'}\n",
      "After Clearing all keys {}\n",
      "After deleting Dict <class 'dict'>\n"
     ]
    },
    {
     "ename": "TypeError",
     "evalue": "descriptor 'get' requires a 'dict' object but received a 'str'",
     "output_type": "error",
     "traceback": [
      "\u001b[0;31m---------------------------------------------------------------------------\u001b[0m",
      "\u001b[0;31mTypeError\u001b[0m                                 Traceback (most recent call last)",
      "\u001b[0;32m<ipython-input-214-cb133d536306>\u001b[0m in \u001b[0;36m<module>\u001b[0;34m()\u001b[0m\n\u001b[1;32m      7\u001b[0m \u001b[0;32mdel\u001b[0m \u001b[0mdict\u001b[0m         \u001b[0;31m# delete entire dictionary\u001b[0m\u001b[0;34m\u001b[0m\u001b[0m\n\u001b[1;32m      8\u001b[0m \u001b[0mprint\u001b[0m\u001b[0;34m(\u001b[0m\u001b[0;34m\"After deleting Dict\"\u001b[0m\u001b[0;34m,\u001b[0m\u001b[0mdict\u001b[0m\u001b[0;34m)\u001b[0m\u001b[0;34m\u001b[0m\u001b[0m\n\u001b[0;32m----> 9\u001b[0;31m \u001b[0mprint\u001b[0m\u001b[0;34m(\u001b[0m\u001b[0mdict\u001b[0m\u001b[0;34m.\u001b[0m\u001b[0mget\u001b[0m\u001b[0;34m(\u001b[0m\u001b[0;34m'Name'\u001b[0m\u001b[0;34m)\u001b[0m\u001b[0;34m)\u001b[0m\u001b[0;34m\u001b[0m\u001b[0m\n\u001b[0m\u001b[1;32m     10\u001b[0m \u001b[0;31m#try:\u001b[0m\u001b[0;34m\u001b[0m\u001b[0;34m\u001b[0m\u001b[0m\n\u001b[1;32m     11\u001b[0m \u001b[0;31m#    print(dict.get('Name'))\u001b[0m\u001b[0;34m\u001b[0m\u001b[0;34m\u001b[0m\u001b[0m\n",
      "\u001b[0;31mTypeError\u001b[0m: descriptor 'get' requires a 'dict' object but received a 'str'"
     ]
    }
   ],
   "source": [
    "dict = {'Name': 'Zara', 'Age': 7, 'Class': 'First'}\n",
    "print(\"Initial Dictionary is\",dict)\n",
    "del dict['Name'] # remove entry with key 'Name'\n",
    "print(\"After deleting Name\",dict)\n",
    "dict.clear()     # remove all entries in dict\n",
    "print(\"After Clearing all keys\",dict)\n",
    "del dict         # delete entire dictionary\n",
    "print(\"After deleting Dict\",dict)\n",
    "print(dict.get('Name'))\n",
    "#try: \n",
    "#    print(dict.get('Name'))\n",
    "# \n",
    "#except TypeError: \n",
    "#    print(\"Division by zero is error !!\")\n",
    " "
   ]
  },
  {
   "cell_type": "markdown",
   "metadata": {},
   "source": [
    "## Check is a key exists in Dictionary"
   ]
  },
  {
   "cell_type": "code",
   "execution_count": null,
   "metadata": {},
   "outputs": [],
   "source": [
    "dict = {'Name':'Zara',\"Age\": 20}\n",
    "if 'Name' in dict:\n",
    "    #if dict['Name'] == 'Prema':\n",
    "    if dict['Name']=='Zara' :    \n",
    "        print('Name exists ')\n",
    "    else:\n",
    "        print('Name does not exist ')"
   ]
  },
  {
   "cell_type": "markdown",
   "metadata": {},
   "source": [
    "## Print Dictionary items"
   ]
  },
  {
   "cell_type": "code",
   "execution_count": 55,
   "metadata": {},
   "outputs": [
    {
     "name": "stdout",
     "output_type": "stream",
     "text": [
      "dict_items([('Name', 'Zara'), ('Age', 20)])\n",
      "dict_keys(['Name', 'Age'])\n",
      "dict_values(['Zara', 20])\n"
     ]
    }
   ],
   "source": [
    "dict = {'Name':'Zara',\"Age\": 20}\n",
    "print(dict.items())\n",
    "print(dict.keys())\n",
    "print(dict.values())"
   ]
  },
  {
   "cell_type": "code",
   "execution_count": null,
   "metadata": {},
   "outputs": [],
   "source": [
    "all() Parameters\n",
    "The all() method takes a single parameter:\n",
    "\n",
    "iterable - any iterable (list, tuple, dictionary, etc.) which contains the elements\n",
    "Return Value from all()\n",
    "The all() method returns:\n",
    "\n",
    "True - If all elements in an iterable are true\n",
    "False - If any element in an iterable is false"
   ]
  }
 ],
 "metadata": {
  "kernelspec": {
   "display_name": "Python 3",
   "language": "python",
   "name": "python3"
  },
  "language_info": {
   "codemirror_mode": {
    "name": "ipython",
    "version": 3
   },
   "file_extension": ".py",
   "mimetype": "text/x-python",
   "name": "python",
   "nbconvert_exporter": "python",
   "pygments_lexer": "ipython3",
   "version": "3.6.4"
  }
 },
 "nbformat": 4,
 "nbformat_minor": 2
}
